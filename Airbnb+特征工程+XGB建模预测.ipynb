{
 "cells": [
  {
   "cell_type": "markdown",
   "metadata": {},
   "source": [
    "# 1 背景与目的"
   ]
  },
  {
   "cell_type": "markdown",
   "metadata": {},
   "source": [
    "基于Airbnb数据集，对特征进行统计/可视化分析，完成特征工程工作，最后通过XGB数据建模输出价格预测结果。数据来源:https://tianchi.aliyun.com/competition/entrance/231715/introduction"
   ]
  },
  {
   "cell_type": "markdown",
   "metadata": {},
   "source": [
    "# 2 特征工程"
   ]
  },
  {
   "cell_type": "markdown",
   "metadata": {},
   "source": [
    "## 2.1 数据预处理"
   ]
  },
  {
   "cell_type": "code",
   "execution_count": 4,
   "metadata": {},
   "outputs": [],
   "source": [
    "%matplotlib inline\n",
    "import pandas as pd\n",
    "import numpy as np\n",
    "from scipy import stats\n",
    "import matplotlib.pyplot as plt\n",
    "import seaborn as sns\n",
    "import re\n",
    "import pandas_profiling\n",
    "import warnings \n",
    "warnings.filterwarnings('ignore')\n",
    "from matplotlib.font_manager import FontProperties\n",
    "from matplotlib import rcParams\n",
    "config = {\n",
    "    \"font.family\":'serif',\n",
    "    \"font.size\": 12,\n",
    "    \"mathtext.fontset\":'stix',\n",
    "    \"font.serif\": ['SimSun'],\n",
    "}\n",
    "rcParams.update(config)\n",
    "sns.set_style(\"ticks\") # dark/white/darkgrid/whitegrid"
   ]
  },
  {
   "cell_type": "code",
   "execution_count": 31,
   "metadata": {},
   "outputs": [],
   "source": [
    "df1=pd.read_csv(\"listings.csv\")\n",
    "df2=pd.read_csv(\"reviews_detail.csv\")"
   ]
  },
  {
   "cell_type": "code",
   "execution_count": 99,
   "metadata": {},
   "outputs": [],
   "source": [
    "df2=pd.read_csv(\"reviews_detail.csv\")"
   ]
  },
  {
   "cell_type": "markdown",
   "metadata": {},
   "source": [
    "### 2.1.1 格式清洗"
   ]
  },
  {
   "cell_type": "code",
   "execution_count": 10,
   "metadata": {},
   "outputs": [
    {
     "data": {
      "text/html": [
       "<div>\n",
       "<style scoped>\n",
       "    .dataframe tbody tr th:only-of-type {\n",
       "        vertical-align: middle;\n",
       "    }\n",
       "\n",
       "    .dataframe tbody tr th {\n",
       "        vertical-align: top;\n",
       "    }\n",
       "\n",
       "    .dataframe thead th {\n",
       "        text-align: right;\n",
       "    }\n",
       "</style>\n",
       "<table border=\"1\" class=\"dataframe\">\n",
       "  <thead>\n",
       "    <tr style=\"text-align: right;\">\n",
       "      <th></th>\n",
       "      <th>id</th>\n",
       "      <th>name</th>\n",
       "      <th>host_id</th>\n",
       "      <th>host_name</th>\n",
       "      <th>neighbourhood_group</th>\n",
       "      <th>neighbourhood</th>\n",
       "      <th>latitude</th>\n",
       "      <th>longitude</th>\n",
       "      <th>room_type</th>\n",
       "      <th>price</th>\n",
       "      <th>minimum_nights</th>\n",
       "      <th>number_of_reviews</th>\n",
       "      <th>last_review</th>\n",
       "      <th>reviews_per_month</th>\n",
       "      <th>calculated_host_listings_count</th>\n",
       "      <th>availability_365</th>\n",
       "    </tr>\n",
       "  </thead>\n",
       "  <tbody>\n",
       "    <tr>\n",
       "      <th>0</th>\n",
       "      <td>44054</td>\n",
       "      <td>Modern and Comfortable Living in CBD</td>\n",
       "      <td>192875</td>\n",
       "      <td>East Apartments</td>\n",
       "      <td>NaN</td>\n",
       "      <td>朝阳区 / Chaoyang</td>\n",
       "      <td>39.89503</td>\n",
       "      <td>116.45163</td>\n",
       "      <td>Entire home/apt</td>\n",
       "      <td>792</td>\n",
       "      <td>1</td>\n",
       "      <td>89</td>\n",
       "      <td>2019-03-04</td>\n",
       "      <td>0.85</td>\n",
       "      <td>9</td>\n",
       "      <td>341</td>\n",
       "    </tr>\n",
       "    <tr>\n",
       "      <th>1</th>\n",
       "      <td>100213</td>\n",
       "      <td>The Great Wall Box Deluxe Suite A团园长城小院东院套房</td>\n",
       "      <td>527062</td>\n",
       "      <td>Joe</td>\n",
       "      <td>NaN</td>\n",
       "      <td>密云县 / Miyun</td>\n",
       "      <td>40.68434</td>\n",
       "      <td>117.17231</td>\n",
       "      <td>Private room</td>\n",
       "      <td>1201</td>\n",
       "      <td>1</td>\n",
       "      <td>2</td>\n",
       "      <td>2017-10-08</td>\n",
       "      <td>0.10</td>\n",
       "      <td>4</td>\n",
       "      <td>0</td>\n",
       "    </tr>\n",
       "    <tr>\n",
       "      <th>2</th>\n",
       "      <td>128496</td>\n",
       "      <td>Heart of Beijing: House with View 2</td>\n",
       "      <td>467520</td>\n",
       "      <td>Cindy</td>\n",
       "      <td>NaN</td>\n",
       "      <td>东城区</td>\n",
       "      <td>39.93213</td>\n",
       "      <td>116.42200</td>\n",
       "      <td>Entire home/apt</td>\n",
       "      <td>389</td>\n",
       "      <td>3</td>\n",
       "      <td>259</td>\n",
       "      <td>2019-02-05</td>\n",
       "      <td>2.70</td>\n",
       "      <td>1</td>\n",
       "      <td>93</td>\n",
       "    </tr>\n",
       "  </tbody>\n",
       "</table>\n",
       "</div>"
      ],
      "text/plain": [
       "       id                                         name  host_id  \\\n",
       "0   44054         Modern and Comfortable Living in CBD   192875   \n",
       "1  100213  The Great Wall Box Deluxe Suite A团园长城小院东院套房   527062   \n",
       "2  128496          Heart of Beijing: House with View 2   467520   \n",
       "\n",
       "         host_name  neighbourhood_group   neighbourhood  latitude  longitude  \\\n",
       "0  East Apartments                  NaN  朝阳区 / Chaoyang  39.89503  116.45163   \n",
       "1              Joe                  NaN     密云县 / Miyun  40.68434  117.17231   \n",
       "2            Cindy                  NaN             东城区  39.93213  116.42200   \n",
       "\n",
       "         room_type  price  minimum_nights  number_of_reviews last_review  \\\n",
       "0  Entire home/apt    792               1                 89  2019-03-04   \n",
       "1     Private room   1201               1                  2  2017-10-08   \n",
       "2  Entire home/apt    389               3                259  2019-02-05   \n",
       "\n",
       "   reviews_per_month  calculated_host_listings_count  availability_365  \n",
       "0               0.85                               9               341  \n",
       "1               0.10                               4                 0  \n",
       "2               2.70                               1                93  "
      ]
     },
     "execution_count": 10,
     "metadata": {},
     "output_type": "execute_result"
    }
   ],
   "source": [
    "#主要看看各特征数据格式是否一致。是否有乱码等不干净数据。\n",
    "df1.head(3)"
   ]
  },
  {
   "cell_type": "code",
   "execution_count": 11,
   "metadata": {},
   "outputs": [
    {
     "data": {
      "text/html": [
       "<div>\n",
       "<style scoped>\n",
       "    .dataframe tbody tr th:only-of-type {\n",
       "        vertical-align: middle;\n",
       "    }\n",
       "\n",
       "    .dataframe tbody tr th {\n",
       "        vertical-align: top;\n",
       "    }\n",
       "\n",
       "    .dataframe thead th {\n",
       "        text-align: right;\n",
       "    }\n",
       "</style>\n",
       "<table border=\"1\" class=\"dataframe\">\n",
       "  <thead>\n",
       "    <tr style=\"text-align: right;\">\n",
       "      <th></th>\n",
       "      <th>id</th>\n",
       "      <th>name</th>\n",
       "      <th>host_id</th>\n",
       "      <th>host_name</th>\n",
       "      <th>neighbourhood_group</th>\n",
       "      <th>neighbourhood</th>\n",
       "      <th>latitude</th>\n",
       "      <th>longitude</th>\n",
       "      <th>room_type</th>\n",
       "      <th>price</th>\n",
       "      <th>minimum_nights</th>\n",
       "      <th>number_of_reviews</th>\n",
       "      <th>last_review</th>\n",
       "      <th>reviews_per_month</th>\n",
       "      <th>calculated_host_listings_count</th>\n",
       "      <th>availability_365</th>\n",
       "    </tr>\n",
       "  </thead>\n",
       "  <tbody>\n",
       "    <tr>\n",
       "      <th>28449</th>\n",
       "      <td>33950006</td>\n",
       "      <td>临近地铁温馨网红风小屋一居室</td>\n",
       "      <td>141786513</td>\n",
       "      <td>昊</td>\n",
       "      <td>NaN</td>\n",
       "      <td>朝阳区 / Chaoyang</td>\n",
       "      <td>39.89733</td>\n",
       "      <td>116.50473</td>\n",
       "      <td>Entire home/apt</td>\n",
       "      <td>329</td>\n",
       "      <td>1</td>\n",
       "      <td>0</td>\n",
       "      <td>NaN</td>\n",
       "      <td>NaN</td>\n",
       "      <td>1</td>\n",
       "      <td>363</td>\n",
       "    </tr>\n",
       "    <tr>\n",
       "      <th>28450</th>\n",
       "      <td>33950535</td>\n",
       "      <td>3. 老国展,三元桥地铁,静安东里大床房</td>\n",
       "      <td>213500128</td>\n",
       "      <td>晓征</td>\n",
       "      <td>NaN</td>\n",
       "      <td>朝阳区 / Chaoyang</td>\n",
       "      <td>39.95988</td>\n",
       "      <td>116.45187</td>\n",
       "      <td>Private room</td>\n",
       "      <td>188</td>\n",
       "      <td>1</td>\n",
       "      <td>0</td>\n",
       "      <td>NaN</td>\n",
       "      <td>NaN</td>\n",
       "      <td>6</td>\n",
       "      <td>84</td>\n",
       "    </tr>\n",
       "    <tr>\n",
       "      <th>28451</th>\n",
       "      <td>33954414</td>\n",
       "      <td>密码锁自行入住,隐私安全,丰台宋家庄交通枢纽站,去往北京站北京南站,天安门故宫,长城水魔方,...</td>\n",
       "      <td>252799678</td>\n",
       "      <td>超</td>\n",
       "      <td>NaN</td>\n",
       "      <td>丰台区 / Fengtai</td>\n",
       "      <td>39.84714</td>\n",
       "      <td>116.43481</td>\n",
       "      <td>Entire home/apt</td>\n",
       "      <td>295</td>\n",
       "      <td>1</td>\n",
       "      <td>0</td>\n",
       "      <td>NaN</td>\n",
       "      <td>NaN</td>\n",
       "      <td>6</td>\n",
       "      <td>180</td>\n",
       "    </tr>\n",
       "  </tbody>\n",
       "</table>\n",
       "</div>"
      ],
      "text/plain": [
       "             id                                               name    host_id  \\\n",
       "28449  33950006                                     临近地铁温馨网红风小屋一居室  141786513   \n",
       "28450  33950535                               3. 老国展,三元桥地铁,静安东里大床房  213500128   \n",
       "28451  33954414  密码锁自行入住,隐私安全,丰台宋家庄交通枢纽站,去往北京站北京南站,天安门故宫,长城水魔方,...  252799678   \n",
       "\n",
       "      host_name  neighbourhood_group   neighbourhood  latitude  longitude  \\\n",
       "28449         昊                  NaN  朝阳区 / Chaoyang  39.89733  116.50473   \n",
       "28450        晓征                  NaN  朝阳区 / Chaoyang  39.95988  116.45187   \n",
       "28451         超                  NaN   丰台区 / Fengtai  39.84714  116.43481   \n",
       "\n",
       "             room_type  price  minimum_nights  number_of_reviews last_review  \\\n",
       "28449  Entire home/apt    329               1                  0         NaN   \n",
       "28450     Private room    188               1                  0         NaN   \n",
       "28451  Entire home/apt    295               1                  0         NaN   \n",
       "\n",
       "       reviews_per_month  calculated_host_listings_count  availability_365  \n",
       "28449                NaN                               1               363  \n",
       "28450                NaN                               6                84  \n",
       "28451                NaN                               6               180  "
      ]
     },
     "execution_count": 11,
     "metadata": {},
     "output_type": "execute_result"
    }
   ],
   "source": [
    "df1.tail(3)"
   ]
  },
  {
   "cell_type": "code",
   "execution_count": 9,
   "metadata": {},
   "outputs": [
    {
     "data": {
      "text/html": [
       "<div>\n",
       "<style scoped>\n",
       "    .dataframe tbody tr th:only-of-type {\n",
       "        vertical-align: middle;\n",
       "    }\n",
       "\n",
       "    .dataframe tbody tr th {\n",
       "        vertical-align: top;\n",
       "    }\n",
       "\n",
       "    .dataframe thead th {\n",
       "        text-align: right;\n",
       "    }\n",
       "</style>\n",
       "<table border=\"1\" class=\"dataframe\">\n",
       "  <thead>\n",
       "    <tr style=\"text-align: right;\">\n",
       "      <th></th>\n",
       "      <th>name</th>\n",
       "      <th>host_name</th>\n",
       "      <th>neighbourhood</th>\n",
       "      <th>room_type</th>\n",
       "      <th>last_review</th>\n",
       "    </tr>\n",
       "  </thead>\n",
       "  <tbody>\n",
       "    <tr>\n",
       "      <th>count</th>\n",
       "      <td>28451</td>\n",
       "      <td>28452</td>\n",
       "      <td>28452</td>\n",
       "      <td>28452</td>\n",
       "      <td>17294</td>\n",
       "    </tr>\n",
       "    <tr>\n",
       "      <th>unique</th>\n",
       "      <td>27594</td>\n",
       "      <td>6628</td>\n",
       "      <td>16</td>\n",
       "      <td>3</td>\n",
       "      <td>883</td>\n",
       "    </tr>\n",
       "    <tr>\n",
       "      <th>top</th>\n",
       "      <td>距离首都机场T3航站楼3公里/新国展｡免费接送机早餐;2x2米舒适大床｡全时京味餐厅名厨料理...</td>\n",
       "      <td>美婷</td>\n",
       "      <td>朝阳区 / Chaoyang</td>\n",
       "      <td>Entire home/apt</td>\n",
       "      <td>2019-04-07</td>\n",
       "    </tr>\n",
       "    <tr>\n",
       "      <th>freq</th>\n",
       "      <td>28</td>\n",
       "      <td>223</td>\n",
       "      <td>10810</td>\n",
       "      <td>16955</td>\n",
       "      <td>1067</td>\n",
       "    </tr>\n",
       "  </tbody>\n",
       "</table>\n",
       "</div>"
      ],
      "text/plain": [
       "                                                     name host_name  \\\n",
       "count                                               28451     28452   \n",
       "unique                                              27594      6628   \n",
       "top     距离首都机场T3航站楼3公里/新国展｡免费接送机早餐;2x2米舒适大床｡全时京味餐厅名厨料理...        美婷   \n",
       "freq                                                   28       223   \n",
       "\n",
       "         neighbourhood        room_type last_review  \n",
       "count            28452            28452       17294  \n",
       "unique              16                3         883  \n",
       "top     朝阳区 / Chaoyang  Entire home/apt  2019-04-07  \n",
       "freq             10810            16955        1067  "
      ]
     },
     "execution_count": 9,
     "metadata": {},
     "output_type": "execute_result"
    }
   ],
   "source": [
    "df1.describe(include=[\"O\"])"
   ]
  },
  {
   "cell_type": "markdown",
   "metadata": {},
   "source": [
    "neighbourhood中英文混合，且区县混用，目前北京市统一改县为区，应该统一表达。neighbourhood和room_type唯一值比较小，比较符合一般认知。\n",
    "数据类型方面，ID类特征应该为分类型数据，last_review应为日期型数据。"
   ]
  },
  {
   "cell_type": "code",
   "execution_count": 52,
   "metadata": {},
   "outputs": [],
   "source": [
    "df1[\"neighbourhood\"]=df1[\"neighbourhood\"].apply(lambda x:re.sub(\"[A-Za-z0-9/]\", \"\",x)) #滤除非汉字部分\n",
    "df1[\"neighbourhood\"]=df1[\"neighbourhood\"].apply(lambda x:re.sub(\"县\", \"区\",x)) #替换\n",
    "df1[\"neighbourhood\"]=df1[\"neighbourhood\"].apply(lambda x:re.sub(\" \", \"\",x)) #消除空格\n",
    "df1.id=df1.id.astype(\"object\") #数据类型转换\n",
    "df1.host_id=df1.host_id.astype(\"object\") #数据类型转换\n",
    "df1.last_review=pd.to_datetime(df1.last_review) #数据类型转换"
   ]
  },
  {
   "cell_type": "code",
   "execution_count": 14,
   "metadata": {},
   "outputs": [
    {
     "data": {
      "text/html": [
       "<div>\n",
       "<style scoped>\n",
       "    .dataframe tbody tr th:only-of-type {\n",
       "        vertical-align: middle;\n",
       "    }\n",
       "\n",
       "    .dataframe tbody tr th {\n",
       "        vertical-align: top;\n",
       "    }\n",
       "\n",
       "    .dataframe thead th {\n",
       "        text-align: right;\n",
       "    }\n",
       "</style>\n",
       "<table border=\"1\" class=\"dataframe\">\n",
       "  <thead>\n",
       "    <tr style=\"text-align: right;\">\n",
       "      <th></th>\n",
       "      <th>listing_id</th>\n",
       "      <th>id</th>\n",
       "      <th>date</th>\n",
       "      <th>reviewer_id</th>\n",
       "      <th>reviewer_name</th>\n",
       "      <th>comments</th>\n",
       "    </tr>\n",
       "  </thead>\n",
       "  <tbody>\n",
       "    <tr>\n",
       "      <th>0</th>\n",
       "      <td>44054</td>\n",
       "      <td>84748</td>\n",
       "      <td>2010-08-25</td>\n",
       "      <td>207019</td>\n",
       "      <td>Jarrod</td>\n",
       "      <td>Sev was very helpful.  Sev showed us where to ...</td>\n",
       "    </tr>\n",
       "    <tr>\n",
       "      <th>1</th>\n",
       "      <td>44054</td>\n",
       "      <td>118384</td>\n",
       "      <td>2010-10-13</td>\n",
       "      <td>218723</td>\n",
       "      <td>Kimberly</td>\n",
       "      <td>We arrived in Beijing very early in the mornin...</td>\n",
       "    </tr>\n",
       "    <tr>\n",
       "      <th>2</th>\n",
       "      <td>44054</td>\n",
       "      <td>436978</td>\n",
       "      <td>2011-08-11</td>\n",
       "      <td>609177</td>\n",
       "      <td>Emma</td>\n",
       "      <td>It is a really massive apartment and really co...</td>\n",
       "    </tr>\n",
       "  </tbody>\n",
       "</table>\n",
       "</div>"
      ],
      "text/plain": [
       "   listing_id      id        date  reviewer_id reviewer_name  \\\n",
       "0       44054   84748  2010-08-25       207019        Jarrod   \n",
       "1       44054  118384  2010-10-13       218723      Kimberly   \n",
       "2       44054  436978  2011-08-11       609177          Emma   \n",
       "\n",
       "                                            comments  \n",
       "0  Sev was very helpful.  Sev showed us where to ...  \n",
       "1  We arrived in Beijing very early in the mornin...  \n",
       "2  It is a really massive apartment and really co...  "
      ]
     },
     "execution_count": 14,
     "metadata": {},
     "output_type": "execute_result"
    }
   ],
   "source": [
    "df2.head(3)"
   ]
  },
  {
   "cell_type": "code",
   "execution_count": 16,
   "metadata": {},
   "outputs": [
    {
     "data": {
      "text/html": [
       "<div>\n",
       "<style scoped>\n",
       "    .dataframe tbody tr th:only-of-type {\n",
       "        vertical-align: middle;\n",
       "    }\n",
       "\n",
       "    .dataframe tbody tr th {\n",
       "        vertical-align: top;\n",
       "    }\n",
       "\n",
       "    .dataframe thead th {\n",
       "        text-align: right;\n",
       "    }\n",
       "</style>\n",
       "<table border=\"1\" class=\"dataframe\">\n",
       "  <thead>\n",
       "    <tr style=\"text-align: right;\">\n",
       "      <th></th>\n",
       "      <th>listing_id</th>\n",
       "      <th>id</th>\n",
       "      <th>date</th>\n",
       "      <th>reviewer_id</th>\n",
       "      <th>reviewer_name</th>\n",
       "      <th>comments</th>\n",
       "    </tr>\n",
       "  </thead>\n",
       "  <tbody>\n",
       "    <tr>\n",
       "      <th>202096</th>\n",
       "      <td>33891613</td>\n",
       "      <td>438182693</td>\n",
       "      <td>2019-04-16</td>\n",
       "      <td>255994654</td>\n",
       "      <td>天佑</td>\n",
       "      <td>房间布置明亮温暖而别有风格,指引周到而迅速,房间内设施齐全､空间宽敞!</td>\n",
       "    </tr>\n",
       "    <tr>\n",
       "      <th>202097</th>\n",
       "      <td>33892088</td>\n",
       "      <td>438119657</td>\n",
       "      <td>2019-04-16</td>\n",
       "      <td>255993753</td>\n",
       "      <td>志强</td>\n",
       "      <td>各方面这个价位性价比是非常之高了,房东人也很好,交通便利,我个人是很满意的,有机会还会来｡</td>\n",
       "    </tr>\n",
       "    <tr>\n",
       "      <th>202098</th>\n",
       "      <td>33925874</td>\n",
       "      <td>438572523</td>\n",
       "      <td>2019-04-17</td>\n",
       "      <td>256375057</td>\n",
       "      <td>玲</td>\n",
       "      <td>The host canceled this reservation 13 days bef...</td>\n",
       "    </tr>\n",
       "  </tbody>\n",
       "</table>\n",
       "</div>"
      ],
      "text/plain": [
       "        listing_id         id        date  reviewer_id reviewer_name  \\\n",
       "202096    33891613  438182693  2019-04-16    255994654            天佑   \n",
       "202097    33892088  438119657  2019-04-16    255993753            志强   \n",
       "202098    33925874  438572523  2019-04-17    256375057             玲   \n",
       "\n",
       "                                                 comments  \n",
       "202096                房间布置明亮温暖而别有风格,指引周到而迅速,房间内设施齐全､空间宽敞!  \n",
       "202097      各方面这个价位性价比是非常之高了,房东人也很好,交通便利,我个人是很满意的,有机会还会来｡  \n",
       "202098  The host canceled this reservation 13 days bef...  "
      ]
     },
     "execution_count": 16,
     "metadata": {},
     "output_type": "execute_result"
    }
   ],
   "source": [
    "df2.tail(3)"
   ]
  },
  {
   "cell_type": "markdown",
   "metadata": {},
   "source": [
    "df2的数据以非结构化数据为主，comments中英文混合不利于提取特征，可以考虑将中英文进行分割，再提取对应的评论情感正向指数，评论字符数等作为新特征。"
   ]
  },
  {
   "cell_type": "code",
   "execution_count": 102,
   "metadata": {},
   "outputs": [],
   "source": [
    "df2.id=df2.id.astype('object')\n",
    "df2.reviewer_id=df2.reviewer_id.astype(\"object\")\n",
    "df2.listing_id=df2.listing_id.astype(\"object\")\n",
    "df2.date=pd.to_datetime(df2.date)"
   ]
  },
  {
   "cell_type": "markdown",
   "metadata": {},
   "source": [
    "### 2.1.2 缺失值处理"
   ]
  },
  {
   "cell_type": "code",
   "execution_count": 8,
   "metadata": {},
   "outputs": [
    {
     "name": "stdout",
     "output_type": "stream",
     "text": [
      "<class 'pandas.core.frame.DataFrame'>\n",
      "RangeIndex: 28452 entries, 0 to 28451\n",
      "Data columns (total 16 columns):\n",
      "id                                28452 non-null int64\n",
      "name                              28451 non-null object\n",
      "host_id                           28452 non-null int64\n",
      "host_name                         28452 non-null object\n",
      "neighbourhood_group               0 non-null float64\n",
      "neighbourhood                     28452 non-null object\n",
      "latitude                          28452 non-null float64\n",
      "longitude                         28452 non-null float64\n",
      "room_type                         28452 non-null object\n",
      "price                             28452 non-null int64\n",
      "minimum_nights                    28452 non-null int64\n",
      "number_of_reviews                 28452 non-null int64\n",
      "last_review                       17294 non-null object\n",
      "reviews_per_month                 17294 non-null float64\n",
      "calculated_host_listings_count    28452 non-null int64\n",
      "availability_365                  28452 non-null int64\n",
      "dtypes: float64(4), int64(7), object(5)\n",
      "memory usage: 3.5+ MB\n"
     ]
    }
   ],
   "source": [
    "df1.info()"
   ]
  },
  {
   "cell_type": "code",
   "execution_count": 20,
   "metadata": {},
   "outputs": [
    {
     "data": {
      "text/plain": [
       "id                                    0\n",
       "name                                  1\n",
       "host_id                               0\n",
       "host_name                             0\n",
       "neighbourhood_group               28452\n",
       "neighbourhood                         0\n",
       "latitude                              0\n",
       "longitude                             0\n",
       "room_type                             0\n",
       "price                                 0\n",
       "minimum_nights                        0\n",
       "number_of_reviews                     0\n",
       "last_review                       11158\n",
       "reviews_per_month                 11158\n",
       "calculated_host_listings_count        0\n",
       "availability_365                      0\n",
       "dtype: int64"
      ]
     },
     "execution_count": 20,
     "metadata": {},
     "output_type": "execute_result"
    }
   ],
   "source": [
    "df1.isnull().sum()"
   ]
  },
  {
   "cell_type": "markdown",
   "metadata": {},
   "source": [
    "name具有一个缺失样本，缺失比例较小，考虑直接删除该条记录。而last_review和reviews_per_month拥有相同比例的缺失值，考虑缺失类型为非完全随机缺失，且缺失量较大，但小于50%，考虑根据特征属性进行填充。\n",
    "last_review填充众数，而reviews_per_month填充0."
   ]
  },
  {
   "cell_type": "code",
   "execution_count": 39,
   "metadata": {},
   "outputs": [],
   "source": [
    "#计算特征的缺失率；删除缺失率超过50%的特征；删除缺失率小于2%的特征对应的空值样本\n",
    "def delete_feature(df):\n",
    "    df_=df.copy()\n",
    "    N = df.shape[0]  # 样本数\n",
    "    no_nan_count = df.count().to_frame().T  # 每一维特征非缺失值的数量\n",
    "    del_feature, save_feature,feature_loss_rate = [], [],[]\n",
    "    for col in no_nan_count.columns.tolist():\n",
    "        loss_rate = (N - no_nan_count[col].values[0])/N  # 缺失率\n",
    "        if loss_rate > 0:\n",
    "            feature_loss_rate.append((col,loss_rate))\n",
    "        if 0.05>=loss_rate > 0: # 缺失率小于 2% 时，将这一维特征对应的空值样本删除\n",
    "            df_=df[df[col].notnull()]\n",
    "        if loss_rate > 0.5:  # 缺失率大于 50% 时，将这一维特征删除\n",
    "            del_feature.append(col)\n",
    "        else:\n",
    "            save_feature.append(col)\n",
    "    return feature_loss_rate,df_[save_feature]\n",
    "\n",
    "#删除非缺失值数大于thresh(thresh=80%的特征数)的样本\n",
    "def delete_sample(df): \n",
    "    df_ = df.dropna(thresh=int(df.shape[1]*0.8))\n",
    "    return df_"
   ]
  },
  {
   "cell_type": "code",
   "execution_count": 40,
   "metadata": {},
   "outputs": [],
   "source": [
    "feature_loss_rate=delete_feature(df1)[0]\n",
    "df1=delete_feature(df1)[1]\n",
    "df1=delete_sample(df1)"
   ]
  },
  {
   "cell_type": "code",
   "execution_count": 44,
   "metadata": {},
   "outputs": [],
   "source": [
    "df1.last_review=df1.last_review.fillna(df1.last_review.mode()[0])\n",
    "df1.reviews_per_month=df1.reviews_per_month.fillna(value=0)"
   ]
  },
  {
   "cell_type": "code",
   "execution_count": 46,
   "metadata": {},
   "outputs": [
    {
     "name": "stdout",
     "output_type": "stream",
     "text": [
      "<class 'pandas.core.frame.DataFrame'>\n",
      "RangeIndex: 202099 entries, 0 to 202098\n",
      "Data columns (total 6 columns):\n",
      "listing_id       202099 non-null int64\n",
      "id               202099 non-null int64\n",
      "date             202099 non-null object\n",
      "reviewer_id      202099 non-null int64\n",
      "reviewer_name    202093 non-null object\n",
      "comments         201983 non-null object\n",
      "dtypes: int64(3), object(3)\n",
      "memory usage: 9.3+ MB\n"
     ]
    }
   ],
   "source": [
    "df2.info()"
   ]
  },
  {
   "cell_type": "code",
   "execution_count": 100,
   "metadata": {},
   "outputs": [],
   "source": [
    "df2=delete_feature(df2)[1]\n",
    "df2=delete_sample(df2)"
   ]
  },
  {
   "cell_type": "code",
   "execution_count": 101,
   "metadata": {},
   "outputs": [],
   "source": [
    "df2.reviewer_name=df2.reviewer_name.fillna(value=\"未留名\")"
   ]
  },
  {
   "cell_type": "code",
   "execution_count": 50,
   "metadata": {},
   "outputs": [
    {
     "name": "stdout",
     "output_type": "stream",
     "text": [
      "<class 'pandas.core.frame.DataFrame'>\n",
      "Int64Index: 201983 entries, 0 to 202098\n",
      "Data columns (total 6 columns):\n",
      "listing_id       201983 non-null int64\n",
      "id               201983 non-null int64\n",
      "date             201983 non-null object\n",
      "reviewer_id      201983 non-null int64\n",
      "reviewer_name    201983 non-null object\n",
      "comments         201983 non-null object\n",
      "dtypes: int64(3), object(3)\n",
      "memory usage: 10.8+ MB\n"
     ]
    }
   ],
   "source": [
    "df2.info()"
   ]
  },
  {
   "cell_type": "markdown",
   "metadata": {},
   "source": [
    "### 2.1.3 异常值处理"
   ]
  },
  {
   "cell_type": "code",
   "execution_count": 53,
   "metadata": {},
   "outputs": [
    {
     "data": {
      "text/html": [
       "<div>\n",
       "<style scoped>\n",
       "    .dataframe tbody tr th:only-of-type {\n",
       "        vertical-align: middle;\n",
       "    }\n",
       "\n",
       "    .dataframe tbody tr th {\n",
       "        vertical-align: top;\n",
       "    }\n",
       "\n",
       "    .dataframe thead th {\n",
       "        text-align: right;\n",
       "    }\n",
       "</style>\n",
       "<table border=\"1\" class=\"dataframe\">\n",
       "  <thead>\n",
       "    <tr style=\"text-align: right;\">\n",
       "      <th></th>\n",
       "      <th>latitude</th>\n",
       "      <th>longitude</th>\n",
       "      <th>price</th>\n",
       "      <th>minimum_nights</th>\n",
       "      <th>number_of_reviews</th>\n",
       "      <th>reviews_per_month</th>\n",
       "      <th>calculated_host_listings_count</th>\n",
       "      <th>availability_365</th>\n",
       "    </tr>\n",
       "  </thead>\n",
       "  <tbody>\n",
       "    <tr>\n",
       "      <th>count</th>\n",
       "      <td>28451.000000</td>\n",
       "      <td>28451.000000</td>\n",
       "      <td>28451.000000</td>\n",
       "      <td>28451.000000</td>\n",
       "      <td>28451.000000</td>\n",
       "      <td>28451.000000</td>\n",
       "      <td>28451.000000</td>\n",
       "      <td>28451.000000</td>\n",
       "    </tr>\n",
       "    <tr>\n",
       "      <th>mean</th>\n",
       "      <td>39.983232</td>\n",
       "      <td>116.442008</td>\n",
       "      <td>610.873396</td>\n",
       "      <td>2.729746</td>\n",
       "      <td>7.103406</td>\n",
       "      <td>0.802217</td>\n",
       "      <td>12.818706</td>\n",
       "      <td>220.337071</td>\n",
       "    </tr>\n",
       "    <tr>\n",
       "      <th>std</th>\n",
       "      <td>0.186984</td>\n",
       "      <td>0.204795</td>\n",
       "      <td>1622.609504</td>\n",
       "      <td>17.921244</td>\n",
       "      <td>16.815310</td>\n",
       "      <td>1.391039</td>\n",
       "      <td>29.261751</td>\n",
       "      <td>138.430490</td>\n",
       "    </tr>\n",
       "    <tr>\n",
       "      <th>min</th>\n",
       "      <td>39.455810</td>\n",
       "      <td>115.473390</td>\n",
       "      <td>0.000000</td>\n",
       "      <td>1.000000</td>\n",
       "      <td>0.000000</td>\n",
       "      <td>0.000000</td>\n",
       "      <td>1.000000</td>\n",
       "      <td>0.000000</td>\n",
       "    </tr>\n",
       "    <tr>\n",
       "      <th>5%</th>\n",
       "      <td>39.798705</td>\n",
       "      <td>116.189500</td>\n",
       "      <td>107.000000</td>\n",
       "      <td>1.000000</td>\n",
       "      <td>0.000000</td>\n",
       "      <td>0.000000</td>\n",
       "      <td>1.000000</td>\n",
       "      <td>0.000000</td>\n",
       "    </tr>\n",
       "    <tr>\n",
       "      <th>25%</th>\n",
       "      <td>39.897335</td>\n",
       "      <td>116.355290</td>\n",
       "      <td>235.000000</td>\n",
       "      <td>1.000000</td>\n",
       "      <td>0.000000</td>\n",
       "      <td>0.000000</td>\n",
       "      <td>2.000000</td>\n",
       "      <td>87.000000</td>\n",
       "    </tr>\n",
       "    <tr>\n",
       "      <th>50%</th>\n",
       "      <td>39.930910</td>\n",
       "      <td>116.434670</td>\n",
       "      <td>389.000000</td>\n",
       "      <td>1.000000</td>\n",
       "      <td>1.000000</td>\n",
       "      <td>0.200000</td>\n",
       "      <td>5.000000</td>\n",
       "      <td>209.000000</td>\n",
       "    </tr>\n",
       "    <tr>\n",
       "      <th>75%</th>\n",
       "      <td>39.990470</td>\n",
       "      <td>116.491125</td>\n",
       "      <td>577.000000</td>\n",
       "      <td>1.000000</td>\n",
       "      <td>6.000000</td>\n",
       "      <td>1.000000</td>\n",
       "      <td>11.000000</td>\n",
       "      <td>361.000000</td>\n",
       "    </tr>\n",
       "    <tr>\n",
       "      <th>95%</th>\n",
       "      <td>40.447150</td>\n",
       "      <td>116.686040</td>\n",
       "      <td>1691.000000</td>\n",
       "      <td>5.000000</td>\n",
       "      <td>35.000000</td>\n",
       "      <td>3.675000</td>\n",
       "      <td>45.000000</td>\n",
       "      <td>365.000000</td>\n",
       "    </tr>\n",
       "    <tr>\n",
       "      <th>99%</th>\n",
       "      <td>40.656795</td>\n",
       "      <td>117.267885</td>\n",
       "      <td>4395.500000</td>\n",
       "      <td>30.000000</td>\n",
       "      <td>84.000000</td>\n",
       "      <td>6.455000</td>\n",
       "      <td>210.000000</td>\n",
       "      <td>365.000000</td>\n",
       "    </tr>\n",
       "    <tr>\n",
       "      <th>max</th>\n",
       "      <td>40.949660</td>\n",
       "      <td>117.495270</td>\n",
       "      <td>68983.000000</td>\n",
       "      <td>1125.000000</td>\n",
       "      <td>322.000000</td>\n",
       "      <td>20.000000</td>\n",
       "      <td>222.000000</td>\n",
       "      <td>365.000000</td>\n",
       "    </tr>\n",
       "  </tbody>\n",
       "</table>\n",
       "</div>"
      ],
      "text/plain": [
       "           latitude     longitude         price  minimum_nights  \\\n",
       "count  28451.000000  28451.000000  28451.000000    28451.000000   \n",
       "mean      39.983232    116.442008    610.873396        2.729746   \n",
       "std        0.186984      0.204795   1622.609504       17.921244   \n",
       "min       39.455810    115.473390      0.000000        1.000000   \n",
       "5%        39.798705    116.189500    107.000000        1.000000   \n",
       "25%       39.897335    116.355290    235.000000        1.000000   \n",
       "50%       39.930910    116.434670    389.000000        1.000000   \n",
       "75%       39.990470    116.491125    577.000000        1.000000   \n",
       "95%       40.447150    116.686040   1691.000000        5.000000   \n",
       "99%       40.656795    117.267885   4395.500000       30.000000   \n",
       "max       40.949660    117.495270  68983.000000     1125.000000   \n",
       "\n",
       "       number_of_reviews  reviews_per_month  calculated_host_listings_count  \\\n",
       "count       28451.000000       28451.000000                    28451.000000   \n",
       "mean            7.103406           0.802217                       12.818706   \n",
       "std            16.815310           1.391039                       29.261751   \n",
       "min             0.000000           0.000000                        1.000000   \n",
       "5%              0.000000           0.000000                        1.000000   \n",
       "25%             0.000000           0.000000                        2.000000   \n",
       "50%             1.000000           0.200000                        5.000000   \n",
       "75%             6.000000           1.000000                       11.000000   \n",
       "95%            35.000000           3.675000                       45.000000   \n",
       "99%            84.000000           6.455000                      210.000000   \n",
       "max           322.000000          20.000000                      222.000000   \n",
       "\n",
       "       availability_365  \n",
       "count      28451.000000  \n",
       "mean         220.337071  \n",
       "std          138.430490  \n",
       "min            0.000000  \n",
       "5%             0.000000  \n",
       "25%           87.000000  \n",
       "50%          209.000000  \n",
       "75%          361.000000  \n",
       "95%          365.000000  \n",
       "99%          365.000000  \n",
       "max          365.000000  "
      ]
     },
     "execution_count": 53,
     "metadata": {},
     "output_type": "execute_result"
    }
   ],
   "source": [
    "df1.describe(percentiles=[0.05,0.25,0.5,0.75,0.95,0.99]) #数值型数据统计结果"
   ]
  },
  {
   "cell_type": "code",
   "execution_count": 54,
   "metadata": {},
   "outputs": [
    {
     "data": {
      "image/png": "[encoded data removed]",
      "text/plain": [
       "<Figure size 936x648 with 6 Axes>"
      ]
     },
     "metadata": {},
     "output_type": "display_data"
    }
   ],
   "source": [
    "#箱型图，获取数据大致分布情况，查看离群点信息\n",
    "subsets=['price','minimum_nights','number_of_reviews','reviews_per_month','calculated_host_listings_count','availability_365']\n",
    "fig,axes=plt.subplots(len(subsets),1,figsize=(13,9))\n",
    "plt.subplots_adjust(hspace=1)\n",
    "for i,subset in enumerate(subsets):\n",
    "    sns.boxplot(df1[subset],ax=axes[i],orient='h')"
   ]
  },
  {
   "cell_type": "code",
   "execution_count": 55,
   "metadata": {},
   "outputs": [
    {
     "data": {
      "image/png": "[encoded data removed]",
      "text/plain": [
       "<Figure size 936x504 with 6 Axes>"
      ]
     },
     "metadata": {},
     "output_type": "display_data"
    }
   ],
   "source": [
    "#直方图，获取数据大致分布情况，查看集中信息\n",
    "fig2,[[ax1,ax2,ax3],[ax4,ax5,ax6]]=plt.subplots(2,3,figsize=(13,7))\n",
    "axes2=[ax1,ax2,ax3,ax4,ax5,ax6]\n",
    "plt.subplots_adjust(hspace=.3, wspace=.4)\n",
    "data=df1[(df1.price<=1778) & (df1.minimum_nights<=5) & (df1.number_of_reviews<=50)]\n",
    "data=data.dropna(how=\"any\")\n",
    "for i,subset in enumerate(subsets):\n",
    "    sns.distplot(data[subset],ax=axes2[i]) "
   ]
  },
  {
   "cell_type": "markdown",
   "metadata": {},
   "source": [
    "price为0的记录考虑删除，价格极差很大，标准差系数达到2.65，对于高于10000的记录需要进一步诊断是否异常，价格很高有可能房源是别墅等豪宅。\n",
    "minimum_nights：95%在5以内，99%在30以内，最大值达到1125，意味着这个房源至少需要连续订阅1125个晚上，与常理不是很吻合,需要进一步诊断。\n",
    "number_of_reviews:极差很大，99%位数与max差异也很大，需要查看是否存在异常。\n",
    "availability_365：应在1~365之间，在此区间外的数据应该删除。"
   ]
  },
  {
   "cell_type": "code",
   "execution_count": 56,
   "metadata": {},
   "outputs": [
    {
     "data": {
      "text/plain": [
       "Entire home/apt    33\n",
       "Private room       11\n",
       "Shared room         4\n",
       "Name: room_type, dtype: int64"
      ]
     },
     "execution_count": 56,
     "metadata": {},
     "output_type": "execute_result"
    }
   ],
   "source": [
    "df1[df1.price>=10000].room_type.value_counts()"
   ]
  },
  {
   "cell_type": "markdown",
   "metadata": {},
   "source": [
    "在超过10000的高价房源中，有4个房源为合租类型，与现实场景不太吻合，因此考虑将此记录移除。同时，对高价房源中房屋类型为单租且缺失值较多的记录也予以删除。"
   ]
  },
  {
   "cell_type": "code",
   "execution_count": 61,
   "metadata": {},
   "outputs": [],
   "source": [
    "df1=df1[~((df1.price>10000)&(df1.room_type.isin([\"Private room\",\"Shared room\"])))]\n",
    "df1=df1[~((df1.minimum_nights>365)&(df1.price>df1.price.quantile(q=0.95)))]\n",
    "df1=df1[df1[\"price\"]>0]\n",
    "df1=df1[(0<df1[\"availability_365\"]) & (df1[\"availability_365\"]<=365) ]"
   ]
  },
  {
   "cell_type": "code",
   "execution_count": 77,
   "metadata": {},
   "outputs": [
    {
     "data": {
      "text/plain": [
       "25811"
      ]
     },
     "execution_count": 77,
     "metadata": {},
     "output_type": "execute_result"
    }
   ],
   "source": [
    "df1.shape[0]"
   ]
  },
  {
   "cell_type": "code",
   "execution_count": 84,
   "metadata": {},
   "outputs": [],
   "source": [
    "#基于IQR进行过滤\n",
    "def IQRFilter(df,colnames): \n",
    "    # 下四分位数值、中位数，上四分位数值\n",
    "    for col in colnames:\n",
    "        Q1, median, Q3 = np.percentile(df[col].values, (25, 50, 75), interpolation='midpoint')\n",
    "        # 四分位距\n",
    "        IQR = Q3 - Q1\n",
    "        # 内限\n",
    "        inner = [Q1-1.5*IQR, Q3+1.5*IQR]\n",
    "        # 外限\n",
    "        outer = [Q1-3.0*IQR, Q3+3.0*IQR] \n",
    "        # 过滤极端异常值\n",
    "        df=df[(df[col].values<outer[1]) & (df[col].values>outer[0]) ]\n",
    "    return df"
   ]
  },
  {
   "cell_type": "code",
   "execution_count": 85,
   "metadata": {},
   "outputs": [],
   "source": [
    "dfnew=IQRFilter(df1,[\"number_of_reviews\",\"reviews_per_month\"])"
   ]
  },
  {
   "cell_type": "code",
   "execution_count": 87,
   "metadata": {},
   "outputs": [
    {
     "data": {
      "text/plain": [
       "22775"
      ]
     },
     "execution_count": 87,
     "metadata": {},
     "output_type": "execute_result"
    }
   ],
   "source": [
    "dfnew.shape[0]"
   ]
  },
  {
   "cell_type": "markdown",
   "metadata": {},
   "source": [
    "基于IQR方法过滤的数据量达将近12%,因此考虑先不过滤，后续在测试结果评估中再对比。"
   ]
  },
  {
   "cell_type": "markdown",
   "metadata": {},
   "source": [
    "## 2.2 特征构造"
   ]
  },
  {
   "cell_type": "markdown",
   "metadata": {},
   "source": [
    "### 2.2.1 新特征构造"
   ]
  },
  {
   "cell_type": "markdown",
   "metadata": {},
   "source": [
    "#### 构造评论正面指数和评论长度"
   ]
  },
  {
   "cell_type": "code",
   "execution_count": 169,
   "metadata": {},
   "outputs": [],
   "source": [
    "df2new=df2.copy()"
   ]
  },
  {
   "cell_type": "code",
   "execution_count": 167,
   "metadata": {},
   "outputs": [],
   "source": [
    "def abstractEnglish(x):\n",
    "    import re\n",
    "    if bool(re.search(\"[\\u4e00-\\u9fa5]\", x)):\n",
    "        return \"None\"\n",
    "    else:\n",
    "        return x\n"
   ]
  },
  {
   "cell_type": "code",
   "execution_count": 168,
   "metadata": {},
   "outputs": [],
   "source": [
    "def abstractChinese(x):\n",
    "    import re\n",
    "    if bool(re.search(\"[\\u4e00-\\u9fa5]\", x)):\n",
    "        return x\n",
    "    else:\n",
    "        return \"无\"\n"
   ]
  },
  {
   "cell_type": "code",
   "execution_count": 170,
   "metadata": {},
   "outputs": [],
   "source": [
    "df2new[\"Chinese_comments\"]=df2new.comments.apply(lambda x: abstractChinese(x))"
   ]
  },
  {
   "cell_type": "code",
   "execution_count": 171,
   "metadata": {},
   "outputs": [],
   "source": [
    "df2new[\"English_comments\"]=df2new.comments.apply(lambda x: abstractEnglish(x))"
   ]
  },
  {
   "cell_type": "code",
   "execution_count": 177,
   "metadata": {},
   "outputs": [],
   "source": [
    "df2new[\"Chinese_comments_len\"]=df2new.Chinese_comments.apply(lambda x: len(x))"
   ]
  },
  {
   "cell_type": "code",
   "execution_count": 178,
   "metadata": {},
   "outputs": [],
   "source": [
    "df2new[\"English_comments_len\"]=df2new.English_comments.apply(lambda x: len(x))"
   ]
  },
  {
   "cell_type": "code",
   "execution_count": 179,
   "metadata": {},
   "outputs": [
    {
     "data": {
      "text/html": [
       "<div>\n",
       "<style scoped>\n",
       "    .dataframe tbody tr th:only-of-type {\n",
       "        vertical-align: middle;\n",
       "    }\n",
       "\n",
       "    .dataframe tbody tr th {\n",
       "        vertical-align: top;\n",
       "    }\n",
       "\n",
       "    .dataframe thead th {\n",
       "        text-align: right;\n",
       "    }\n",
       "</style>\n",
       "<table border=\"1\" class=\"dataframe\">\n",
       "  <thead>\n",
       "    <tr style=\"text-align: right;\">\n",
       "      <th></th>\n",
       "      <th>listing_id</th>\n",
       "      <th>id</th>\n",
       "      <th>date</th>\n",
       "      <th>reviewer_id</th>\n",
       "      <th>reviewer_name</th>\n",
       "      <th>comments</th>\n",
       "      <th>Chinese_comments</th>\n",
       "      <th>English_comments</th>\n",
       "      <th>Chinese_comments_len</th>\n",
       "      <th>English_comments_len</th>\n",
       "    </tr>\n",
       "  </thead>\n",
       "  <tbody>\n",
       "    <tr>\n",
       "      <th>202094</th>\n",
       "      <td>33889408</td>\n",
       "      <td>438178936</td>\n",
       "      <td>2019-04-16</td>\n",
       "      <td>255996319</td>\n",
       "      <td>小倩</td>\n",
       "      <td>很不错的,去之前提供的位置信息特别详细,房东有心了,位置很便利,设施也很齐全,非常好的一次住...</td>\n",
       "      <td>很不错的,去之前提供的位置信息特别详细,房东有心了,位置很便利,设施也很齐全,非常好的一次住...</td>\n",
       "      <td>None</td>\n",
       "      <td>50</td>\n",
       "      <td>4</td>\n",
       "    </tr>\n",
       "    <tr>\n",
       "      <th>202095</th>\n",
       "      <td>33890728</td>\n",
       "      <td>438182720</td>\n",
       "      <td>2019-04-16</td>\n",
       "      <td>255995373</td>\n",
       "      <td>志辉</td>\n",
       "      <td>非常棒的房子,住的很开心｡ 地址位置很方便, 房间布置和装修都很奈斯,沙发床特别舒服哈哈</td>\n",
       "      <td>非常棒的房子,住的很开心｡ 地址位置很方便, 房间布置和装修都很奈斯,沙发床特别舒服哈哈</td>\n",
       "      <td>None</td>\n",
       "      <td>44</td>\n",
       "      <td>4</td>\n",
       "    </tr>\n",
       "    <tr>\n",
       "      <th>202096</th>\n",
       "      <td>33891613</td>\n",
       "      <td>438182693</td>\n",
       "      <td>2019-04-16</td>\n",
       "      <td>255994654</td>\n",
       "      <td>天佑</td>\n",
       "      <td>房间布置明亮温暖而别有风格,指引周到而迅速,房间内设施齐全､空间宽敞!</td>\n",
       "      <td>房间布置明亮温暖而别有风格,指引周到而迅速,房间内设施齐全､空间宽敞!</td>\n",
       "      <td>None</td>\n",
       "      <td>35</td>\n",
       "      <td>4</td>\n",
       "    </tr>\n",
       "    <tr>\n",
       "      <th>202097</th>\n",
       "      <td>33892088</td>\n",
       "      <td>438119657</td>\n",
       "      <td>2019-04-16</td>\n",
       "      <td>255993753</td>\n",
       "      <td>志强</td>\n",
       "      <td>各方面这个价位性价比是非常之高了,房东人也很好,交通便利,我个人是很满意的,有机会还会来｡</td>\n",
       "      <td>各方面这个价位性价比是非常之高了,房东人也很好,交通便利,我个人是很满意的,有机会还会来｡</td>\n",
       "      <td>None</td>\n",
       "      <td>45</td>\n",
       "      <td>4</td>\n",
       "    </tr>\n",
       "    <tr>\n",
       "      <th>202098</th>\n",
       "      <td>33925874</td>\n",
       "      <td>438572523</td>\n",
       "      <td>2019-04-17</td>\n",
       "      <td>256375057</td>\n",
       "      <td>玲</td>\n",
       "      <td>The host canceled this reservation 13 days bef...</td>\n",
       "      <td>无</td>\n",
       "      <td>The host canceled this reservation 13 days bef...</td>\n",
       "      <td>1</td>\n",
       "      <td>88</td>\n",
       "    </tr>\n",
       "  </tbody>\n",
       "</table>\n",
       "</div>"
      ],
      "text/plain": [
       "       listing_id         id       date reviewer_id reviewer_name  \\\n",
       "202094   33889408  438178936 2019-04-16   255996319            小倩   \n",
       "202095   33890728  438182720 2019-04-16   255995373            志辉   \n",
       "202096   33891613  438182693 2019-04-16   255994654            天佑   \n",
       "202097   33892088  438119657 2019-04-16   255993753            志强   \n",
       "202098   33925874  438572523 2019-04-17   256375057             玲   \n",
       "\n",
       "                                                 comments  \\\n",
       "202094  很不错的,去之前提供的位置信息特别详细,房东有心了,位置很便利,设施也很齐全,非常好的一次住...   \n",
       "202095       非常棒的房子,住的很开心｡ 地址位置很方便, 房间布置和装修都很奈斯,沙发床特别舒服哈哈   \n",
       "202096                房间布置明亮温暖而别有风格,指引周到而迅速,房间内设施齐全､空间宽敞!   \n",
       "202097      各方面这个价位性价比是非常之高了,房东人也很好,交通便利,我个人是很满意的,有机会还会来｡   \n",
       "202098  The host canceled this reservation 13 days bef...   \n",
       "\n",
       "                                         Chinese_comments  \\\n",
       "202094  很不错的,去之前提供的位置信息特别详细,房东有心了,位置很便利,设施也很齐全,非常好的一次住...   \n",
       "202095       非常棒的房子,住的很开心｡ 地址位置很方便, 房间布置和装修都很奈斯,沙发床特别舒服哈哈   \n",
       "202096                房间布置明亮温暖而别有风格,指引周到而迅速,房间内设施齐全､空间宽敞!   \n",
       "202097      各方面这个价位性价比是非常之高了,房东人也很好,交通便利,我个人是很满意的,有机会还会来｡   \n",
       "202098                                                  无   \n",
       "\n",
       "                                         English_comments  \\\n",
       "202094                                               None   \n",
       "202095                                               None   \n",
       "202096                                               None   \n",
       "202097                                               None   \n",
       "202098  The host canceled this reservation 13 days bef...   \n",
       "\n",
       "        Chinese_comments_len  English_comments_len  \n",
       "202094                    50                     4  \n",
       "202095                    44                     4  \n",
       "202096                    35                     4  \n",
       "202097                    45                     4  \n",
       "202098                     1                    88  "
      ]
     },
     "execution_count": 179,
     "metadata": {},
     "output_type": "execute_result"
    }
   ],
   "source": [
    "df2new.tail(5)"
   ]
  },
  {
   "cell_type": "code",
   "execution_count": 131,
   "metadata": {},
   "outputs": [],
   "source": [
    "from textblob import TextBlob #英文文本情感分析库\n",
    "def CalPolarity(text):\n",
    "    blob=TextBlob(text)\n",
    "    return blob.sentiment.polarity #输出该文本的情感极数（-1~1）"
   ]
  },
  {
   "cell_type": "code",
   "execution_count": null,
   "metadata": {},
   "outputs": [],
   "source": [
    "df2new[\"Polarity\"]=df2new.English_comments.apply(lambda x: CalPolarity(x) )"
   ]
  },
  {
   "cell_type": "code",
   "execution_count": null,
   "metadata": {},
   "outputs": [],
   "source": [
    "from snownlp import SnowNLP #中文文本情感分析库\n",
    "def CalProbability(text): \n",
    "    s = SnowNLP(text)\n",
    "    return s.sentiments #输出该文本为正面评价的概率"
   ]
  },
  {
   "cell_type": "code",
   "execution_count": null,
   "metadata": {},
   "outputs": [],
   "source": [
    "df2new[\"ProbaPositive\"]=df2new.Chinese_comments.apply(lambda x: CalProbability(x) )"
   ]
  },
  {
   "cell_type": "code",
   "execution_count": 234,
   "metadata": {},
   "outputs": [],
   "source": [
    "df2new=pd.read_csv(\"df2new_pro.csv\")"
   ]
  },
  {
   "cell_type": "code",
   "execution_count": 236,
   "metadata": {},
   "outputs": [],
   "source": [
    "df2new=df2new.iloc[:,2:]"
   ]
  },
  {
   "cell_type": "code",
   "execution_count": 237,
   "metadata": {},
   "outputs": [
    {
     "data": {
      "text/html": [
       "<div>\n",
       "<style scoped>\n",
       "    .dataframe tbody tr th:only-of-type {\n",
       "        vertical-align: middle;\n",
       "    }\n",
       "\n",
       "    .dataframe tbody tr th {\n",
       "        vertical-align: top;\n",
       "    }\n",
       "\n",
       "    .dataframe thead th {\n",
       "        text-align: right;\n",
       "    }\n",
       "</style>\n",
       "<table border=\"1\" class=\"dataframe\">\n",
       "  <thead>\n",
       "    <tr style=\"text-align: right;\">\n",
       "      <th></th>\n",
       "      <th>listing_id</th>\n",
       "      <th>id</th>\n",
       "      <th>date</th>\n",
       "      <th>reviewer_id</th>\n",
       "      <th>reviewer_name</th>\n",
       "      <th>comments</th>\n",
       "      <th>Chinese_comments</th>\n",
       "      <th>English_comments</th>\n",
       "      <th>Polarity</th>\n",
       "      <th>ProbaPositive</th>\n",
       "      <th>English_comments_len</th>\n",
       "      <th>Chinese_comments_len</th>\n",
       "    </tr>\n",
       "  </thead>\n",
       "  <tbody>\n",
       "    <tr>\n",
       "      <th>0</th>\n",
       "      <td>44054</td>\n",
       "      <td>84748</td>\n",
       "      <td>2010-08-25</td>\n",
       "      <td>207019</td>\n",
       "      <td>Jarrod</td>\n",
       "      <td>Sev was very helpful.  Sev showed us where to ...</td>\n",
       "      <td>无</td>\n",
       "      <td>Sev was very helpful.  Sev showed us where to ...</td>\n",
       "      <td>0.333333</td>\n",
       "      <td>0.409149</td>\n",
       "      <td>200</td>\n",
       "      <td>1</td>\n",
       "    </tr>\n",
       "    <tr>\n",
       "      <th>1</th>\n",
       "      <td>44054</td>\n",
       "      <td>118384</td>\n",
       "      <td>2010-10-13</td>\n",
       "      <td>218723</td>\n",
       "      <td>Kimberly</td>\n",
       "      <td>We arrived in Beijing very early in the mornin...</td>\n",
       "      <td>无</td>\n",
       "      <td>We arrived in Beijing very early in the mornin...</td>\n",
       "      <td>0.147187</td>\n",
       "      <td>0.409149</td>\n",
       "      <td>865</td>\n",
       "      <td>1</td>\n",
       "    </tr>\n",
       "    <tr>\n",
       "      <th>2</th>\n",
       "      <td>44054</td>\n",
       "      <td>436978</td>\n",
       "      <td>2011-08-11</td>\n",
       "      <td>609177</td>\n",
       "      <td>Emma</td>\n",
       "      <td>It is a really massive apartment and really co...</td>\n",
       "      <td>无</td>\n",
       "      <td>It is a really massive apartment and really co...</td>\n",
       "      <td>0.483333</td>\n",
       "      <td>0.409149</td>\n",
       "      <td>309</td>\n",
       "      <td>1</td>\n",
       "    </tr>\n",
       "    <tr>\n",
       "      <th>3</th>\n",
       "      <td>44054</td>\n",
       "      <td>1118657</td>\n",
       "      <td>2012-04-12</td>\n",
       "      <td>1787536</td>\n",
       "      <td>Andreyna</td>\n",
       "      <td>Sev was incredibly helpful, showed us around t...</td>\n",
       "      <td>无</td>\n",
       "      <td>Sev was incredibly helpful, showed us around t...</td>\n",
       "      <td>0.475000</td>\n",
       "      <td>0.409149</td>\n",
       "      <td>396</td>\n",
       "      <td>1</td>\n",
       "    </tr>\n",
       "    <tr>\n",
       "      <th>4</th>\n",
       "      <td>44054</td>\n",
       "      <td>2140650</td>\n",
       "      <td>2012-08-30</td>\n",
       "      <td>1179565</td>\n",
       "      <td>Frances</td>\n",
       "      <td>The appartment was ideal for our party of 6 ad...</td>\n",
       "      <td>无</td>\n",
       "      <td>The appartment was ideal for our party of 6 ad...</td>\n",
       "      <td>0.366667</td>\n",
       "      <td>0.409149</td>\n",
       "      <td>334</td>\n",
       "      <td>1</td>\n",
       "    </tr>\n",
       "  </tbody>\n",
       "</table>\n",
       "</div>"
      ],
      "text/plain": [
       "   listing_id       id        date  reviewer_id reviewer_name  \\\n",
       "0       44054    84748  2010-08-25       207019        Jarrod   \n",
       "1       44054   118384  2010-10-13       218723      Kimberly   \n",
       "2       44054   436978  2011-08-11       609177          Emma   \n",
       "3       44054  1118657  2012-04-12      1787536      Andreyna   \n",
       "4       44054  2140650  2012-08-30      1179565       Frances   \n",
       "\n",
       "                                            comments Chinese_comments  \\\n",
       "0  Sev was very helpful.  Sev showed us where to ...                无   \n",
       "1  We arrived in Beijing very early in the mornin...                无   \n",
       "2  It is a really massive apartment and really co...                无   \n",
       "3  Sev was incredibly helpful, showed us around t...                无   \n",
       "4  The appartment was ideal for our party of 6 ad...                无   \n",
       "\n",
       "                                    English_comments  Polarity  ProbaPositive  \\\n",
       "0  Sev was very helpful.  Sev showed us where to ...  0.333333       0.409149   \n",
       "1  We arrived in Beijing very early in the mornin...  0.147187       0.409149   \n",
       "2  It is a really massive apartment and really co...  0.483333       0.409149   \n",
       "3  Sev was incredibly helpful, showed us around t...  0.475000       0.409149   \n",
       "4  The appartment was ideal for our party of 6 ad...  0.366667       0.409149   \n",
       "\n",
       "   English_comments_len  Chinese_comments_len  \n",
       "0                   200                     1  \n",
       "1                   865                     1  \n",
       "2                   309                     1  \n",
       "3                   396                     1  \n",
       "4                   334                     1  "
      ]
     },
     "execution_count": 237,
     "metadata": {},
     "output_type": "execute_result"
    }
   ],
   "source": [
    "df2new.head()"
   ]
  },
  {
   "cell_type": "markdown",
   "metadata": {},
   "source": [
    "#### 构造房源描述长度"
   ]
  },
  {
   "cell_type": "code",
   "execution_count": 181,
   "metadata": {},
   "outputs": [],
   "source": [
    "df1[\"Chinese_name\"]=df1.name.apply(lambda x: abstractChinese(x))\n",
    "df1[\"Chinese_name_len\"]=df1.Chinese_name.apply(lambda x: len(x))\n",
    "df1[\"English_name\"]=df1.name.apply(lambda x: abstractEnglish(x))\n",
    "df1[\"English_name_len\"]=df1.English_name.apply(lambda x: len(x))"
   ]
  },
  {
   "cell_type": "markdown",
   "metadata": {},
   "source": [
    "#### 房屋类型特征"
   ]
  },
  {
   "cell_type": "markdown",
   "metadata": {},
   "source": [
    "房屋类型与其他特征以及标签都紧密相关，因此基于房屋类型所衍生出的统计特征可能有价值。"
   ]
  },
  {
   "cell_type": "code",
   "execution_count": 185,
   "metadata": {},
   "outputs": [
    {
     "data": {
      "text/html": [
       "<div>\n",
       "<style scoped>\n",
       "    .dataframe tbody tr th:only-of-type {\n",
       "        vertical-align: middle;\n",
       "    }\n",
       "\n",
       "    .dataframe tbody tr th {\n",
       "        vertical-align: top;\n",
       "    }\n",
       "\n",
       "    .dataframe thead th {\n",
       "        text-align: right;\n",
       "    }\n",
       "</style>\n",
       "<table border=\"1\" class=\"dataframe\">\n",
       "  <thead>\n",
       "    <tr style=\"text-align: right;\">\n",
       "      <th></th>\n",
       "      <th>room_type</th>\n",
       "      <th>price</th>\n",
       "      <th>minimum_nights</th>\n",
       "      <th>number_of_reviews</th>\n",
       "      <th>reviews_per_month</th>\n",
       "      <th>availability_365</th>\n",
       "    </tr>\n",
       "    <tr>\n",
       "      <th>room_type</th>\n",
       "      <th></th>\n",
       "      <th></th>\n",
       "      <th></th>\n",
       "      <th></th>\n",
       "      <th></th>\n",
       "      <th></th>\n",
       "    </tr>\n",
       "  </thead>\n",
       "  <tbody>\n",
       "    <tr>\n",
       "      <th>Private room</th>\n",
       "      <td>8606</td>\n",
       "      <td>248</td>\n",
       "      <td>2.349291</td>\n",
       "      <td>7.989891</td>\n",
       "      <td>0.784510</td>\n",
       "      <td>230.028585</td>\n",
       "    </tr>\n",
       "    <tr>\n",
       "      <th>Entire home/apt</th>\n",
       "      <td>15759</td>\n",
       "      <td>476</td>\n",
       "      <td>2.578336</td>\n",
       "      <td>7.037756</td>\n",
       "      <td>0.902845</td>\n",
       "      <td>248.198807</td>\n",
       "    </tr>\n",
       "    <tr>\n",
       "      <th>Shared room</th>\n",
       "      <td>1446</td>\n",
       "      <td>107</td>\n",
       "      <td>2.825726</td>\n",
       "      <td>6.798755</td>\n",
       "      <td>0.625539</td>\n",
       "      <td>258.352697</td>\n",
       "    </tr>\n",
       "  </tbody>\n",
       "</table>\n",
       "</div>"
      ],
      "text/plain": [
       "                 room_type  price  minimum_nights  number_of_reviews  \\\n",
       "room_type                                                              \n",
       "Private room          8606    248        2.349291           7.989891   \n",
       "Entire home/apt      15759    476        2.578336           7.037756   \n",
       "Shared room           1446    107        2.825726           6.798755   \n",
       "\n",
       "                 reviews_per_month  availability_365  \n",
       "room_type                                             \n",
       "Private room              0.784510        230.028585  \n",
       "Entire home/apt           0.902845        248.198807  \n",
       "Shared room               0.625539        258.352697  "
      ]
     },
     "execution_count": 185,
     "metadata": {},
     "output_type": "execute_result"
    }
   ],
   "source": [
    "df1.groupby(\"room_type\")[[\"room_type\",\"price\",\"minimum_nights\",\"number_of_reviews\",\"reviews_per_month\",\"availability_365\"]].agg({\"room_type\":'count','price':'median','minimum_nights':'mean','number_of_reviews':'mean','reviews_per_month':'mean','availability_365':'mean'}).sort_values(by=\"number_of_reviews\",ascending=False)"
   ]
  },
  {
   "cell_type": "code",
   "execution_count": 218,
   "metadata": {},
   "outputs": [],
   "source": [
    "def meanFeature(df,groupbycol,clonames):\n",
    "    for col in clonames:\n",
    "        newF1 = df1.groupby([groupbycol])[col].mean().to_frame().rename(columns={groupbycol:groupbycol+\"_\"+col+'__mean'}).reset_index()\n",
    "        df = pd.merge(df, newF1, on=[groupbycol], how='inner')\n",
    "    return df"
   ]
  },
  {
   "cell_type": "code",
   "execution_count": 221,
   "metadata": {},
   "outputs": [],
   "source": [
    "newF1 = df1.groupby(['room_type'])['room_type'].count().to_frame().rename(columns={'room_type':'room_type_count'}).reset_index()\n",
    "df1new = pd.merge(df1, newF1, on=['room_type'], how='inner')"
   ]
  },
  {
   "cell_type": "code",
   "execution_count": 222,
   "metadata": {},
   "outputs": [],
   "source": [
    "df1new=meanFeature(df1new,'room_type',[\"minimum_nights\",\"number_of_reviews\",\"reviews_per_month\",\"availability_365\"])"
   ]
  },
  {
   "cell_type": "markdown",
   "metadata": {},
   "source": [
    "#### 区域特征"
   ]
  },
  {
   "cell_type": "code",
   "execution_count": 186,
   "metadata": {},
   "outputs": [
    {
     "data": {
      "text/html": [
       "<div>\n",
       "<style scoped>\n",
       "    .dataframe tbody tr th:only-of-type {\n",
       "        vertical-align: middle;\n",
       "    }\n",
       "\n",
       "    .dataframe tbody tr th {\n",
       "        vertical-align: top;\n",
       "    }\n",
       "\n",
       "    .dataframe thead th {\n",
       "        text-align: right;\n",
       "    }\n",
       "</style>\n",
       "<table border=\"1\" class=\"dataframe\">\n",
       "  <thead>\n",
       "    <tr style=\"text-align: right;\">\n",
       "      <th></th>\n",
       "      <th>neighbourhood</th>\n",
       "      <th>price</th>\n",
       "      <th>minimum_nights</th>\n",
       "      <th>number_of_reviews</th>\n",
       "      <th>reviews_per_month</th>\n",
       "      <th>availability_365</th>\n",
       "    </tr>\n",
       "    <tr>\n",
       "      <th>neighbourhood</th>\n",
       "      <th></th>\n",
       "      <th></th>\n",
       "      <th></th>\n",
       "      <th></th>\n",
       "      <th></th>\n",
       "      <th></th>\n",
       "    </tr>\n",
       "  </thead>\n",
       "  <tbody>\n",
       "    <tr>\n",
       "      <th>东城区</th>\n",
       "      <td>3050</td>\n",
       "      <td>497.0</td>\n",
       "      <td>2.268525</td>\n",
       "      <td>14.908525</td>\n",
       "      <td>1.393990</td>\n",
       "      <td>214.475082</td>\n",
       "    </tr>\n",
       "    <tr>\n",
       "      <th>西城区</th>\n",
       "      <td>1522</td>\n",
       "      <td>463.0</td>\n",
       "      <td>2.319974</td>\n",
       "      <td>9.193824</td>\n",
       "      <td>1.127306</td>\n",
       "      <td>232.201708</td>\n",
       "    </tr>\n",
       "    <tr>\n",
       "      <th>朝阳区</th>\n",
       "      <td>9639</td>\n",
       "      <td>389.0</td>\n",
       "      <td>2.997718</td>\n",
       "      <td>8.607117</td>\n",
       "      <td>0.976222</td>\n",
       "      <td>238.049590</td>\n",
       "    </tr>\n",
       "    <tr>\n",
       "      <th>海淀区</th>\n",
       "      <td>2859</td>\n",
       "      <td>336.0</td>\n",
       "      <td>3.061910</td>\n",
       "      <td>7.045820</td>\n",
       "      <td>0.909612</td>\n",
       "      <td>254.000350</td>\n",
       "    </tr>\n",
       "    <tr>\n",
       "      <th>丰台区</th>\n",
       "      <td>1625</td>\n",
       "      <td>349.0</td>\n",
       "      <td>2.035077</td>\n",
       "      <td>5.368615</td>\n",
       "      <td>0.744634</td>\n",
       "      <td>254.444923</td>\n",
       "    </tr>\n",
       "    <tr>\n",
       "      <th>石景山区</th>\n",
       "      <td>187</td>\n",
       "      <td>362.0</td>\n",
       "      <td>1.818182</td>\n",
       "      <td>4.064171</td>\n",
       "      <td>0.612299</td>\n",
       "      <td>264.042781</td>\n",
       "    </tr>\n",
       "    <tr>\n",
       "      <th>顺义区</th>\n",
       "      <td>859</td>\n",
       "      <td>382.0</td>\n",
       "      <td>2.812573</td>\n",
       "      <td>3.913853</td>\n",
       "      <td>0.620081</td>\n",
       "      <td>253.870780</td>\n",
       "    </tr>\n",
       "    <tr>\n",
       "      <th>大兴区</th>\n",
       "      <td>770</td>\n",
       "      <td>329.0</td>\n",
       "      <td>2.263636</td>\n",
       "      <td>3.859740</td>\n",
       "      <td>0.499143</td>\n",
       "      <td>267.297403</td>\n",
       "    </tr>\n",
       "    <tr>\n",
       "      <th>昌平区</th>\n",
       "      <td>908</td>\n",
       "      <td>336.0</td>\n",
       "      <td>2.757709</td>\n",
       "      <td>2.674009</td>\n",
       "      <td>0.400044</td>\n",
       "      <td>252.180617</td>\n",
       "    </tr>\n",
       "    <tr>\n",
       "      <th>房山区</th>\n",
       "      <td>553</td>\n",
       "      <td>268.0</td>\n",
       "      <td>1.940325</td>\n",
       "      <td>2.649186</td>\n",
       "      <td>0.500344</td>\n",
       "      <td>254.495479</td>\n",
       "    </tr>\n",
       "    <tr>\n",
       "      <th>密云区</th>\n",
       "      <td>880</td>\n",
       "      <td>533.5</td>\n",
       "      <td>1.027273</td>\n",
       "      <td>2.336364</td>\n",
       "      <td>0.310830</td>\n",
       "      <td>240.368182</td>\n",
       "    </tr>\n",
       "    <tr>\n",
       "      <th>通州区</th>\n",
       "      <td>1203</td>\n",
       "      <td>302.0</td>\n",
       "      <td>1.891106</td>\n",
       "      <td>2.211970</td>\n",
       "      <td>0.322652</td>\n",
       "      <td>280.846218</td>\n",
       "    </tr>\n",
       "    <tr>\n",
       "      <th>怀柔区</th>\n",
       "      <td>796</td>\n",
       "      <td>966.5</td>\n",
       "      <td>1.545226</td>\n",
       "      <td>1.925879</td>\n",
       "      <td>0.221922</td>\n",
       "      <td>265.315327</td>\n",
       "    </tr>\n",
       "    <tr>\n",
       "      <th>平谷区</th>\n",
       "      <td>128</td>\n",
       "      <td>597.0</td>\n",
       "      <td>1.007812</td>\n",
       "      <td>1.789062</td>\n",
       "      <td>0.244063</td>\n",
       "      <td>230.835938</td>\n",
       "    </tr>\n",
       "    <tr>\n",
       "      <th>门头沟区</th>\n",
       "      <td>134</td>\n",
       "      <td>312.0</td>\n",
       "      <td>1.597015</td>\n",
       "      <td>1.179104</td>\n",
       "      <td>0.237836</td>\n",
       "      <td>271.455224</td>\n",
       "    </tr>\n",
       "    <tr>\n",
       "      <th>延庆区</th>\n",
       "      <td>698</td>\n",
       "      <td>678.0</td>\n",
       "      <td>1.005731</td>\n",
       "      <td>0.830946</td>\n",
       "      <td>0.176576</td>\n",
       "      <td>219.638968</td>\n",
       "    </tr>\n",
       "  </tbody>\n",
       "</table>\n",
       "</div>"
      ],
      "text/plain": [
       "               neighbourhood  price  minimum_nights  number_of_reviews  \\\n",
       "neighbourhood                                                            \n",
       "东城区                     3050  497.0        2.268525          14.908525   \n",
       "西城区                     1522  463.0        2.319974           9.193824   \n",
       "朝阳区                     9639  389.0        2.997718           8.607117   \n",
       "海淀区                     2859  336.0        3.061910           7.045820   \n",
       "丰台区                     1625  349.0        2.035077           5.368615   \n",
       "石景山区                     187  362.0        1.818182           4.064171   \n",
       "顺义区                      859  382.0        2.812573           3.913853   \n",
       "大兴区                      770  329.0        2.263636           3.859740   \n",
       "昌平区                      908  336.0        2.757709           2.674009   \n",
       "房山区                      553  268.0        1.940325           2.649186   \n",
       "密云区                      880  533.5        1.027273           2.336364   \n",
       "通州区                     1203  302.0        1.891106           2.211970   \n",
       "怀柔区                      796  966.5        1.545226           1.925879   \n",
       "平谷区                      128  597.0        1.007812           1.789062   \n",
       "门头沟区                     134  312.0        1.597015           1.179104   \n",
       "延庆区                      698  678.0        1.005731           0.830946   \n",
       "\n",
       "               reviews_per_month  availability_365  \n",
       "neighbourhood                                       \n",
       "东城区                     1.393990        214.475082  \n",
       "西城区                     1.127306        232.201708  \n",
       "朝阳区                     0.976222        238.049590  \n",
       "海淀区                     0.909612        254.000350  \n",
       "丰台区                     0.744634        254.444923  \n",
       "石景山区                    0.612299        264.042781  \n",
       "顺义区                     0.620081        253.870780  \n",
       "大兴区                     0.499143        267.297403  \n",
       "昌平区                     0.400044        252.180617  \n",
       "房山区                     0.500344        254.495479  \n",
       "密云区                     0.310830        240.368182  \n",
       "通州区                     0.322652        280.846218  \n",
       "怀柔区                     0.221922        265.315327  \n",
       "平谷区                     0.244063        230.835938  \n",
       "门头沟区                    0.237836        271.455224  \n",
       "延庆区                     0.176576        219.638968  "
      ]
     },
     "execution_count": 186,
     "metadata": {},
     "output_type": "execute_result"
    }
   ],
   "source": [
    "df1.groupby(\"neighbourhood\")[[\"neighbourhood\",\"price\",\"minimum_nights\",\"number_of_reviews\",\"reviews_per_month\",\"availability_365\"]].agg({'neighbourhood':'count','price':'median','minimum_nights':'mean','number_of_reviews':'mean','reviews_per_month':'mean','availability_365':'mean'}).sort_values(by=\"number_of_reviews\",ascending=False)"
   ]
  },
  {
   "cell_type": "code",
   "execution_count": 223,
   "metadata": {},
   "outputs": [],
   "source": [
    "newF1 = df1.groupby(['neighbourhood'])['neighbourhood'].count().to_frame().rename(columns={'neighbourhood':'neighbourhood_count'}).reset_index()\n",
    "df1new = pd.merge(df1new, newF1, on=['neighbourhood'], how='inner')"
   ]
  },
  {
   "cell_type": "code",
   "execution_count": 224,
   "metadata": {},
   "outputs": [],
   "source": [
    "df1new=meanFeature(df1new,'neighbourhood',[\"minimum_nights\",\"number_of_reviews\",\"reviews_per_month\",\"availability_365\"])"
   ]
  },
  {
   "cell_type": "markdown",
   "metadata": {},
   "source": [
    "#### number_of_reviews离散为不受欢迎/较受欢迎/受欢迎/极受欢迎五个类别"
   ]
  },
  {
   "cell_type": "code",
   "execution_count": 225,
   "metadata": {},
   "outputs": [],
   "source": [
    "def discretization(df,col):\n",
    "    Q1, median, Q3 = np.percentile(df[col].values, (25, 50, 75), interpolation='midpoint')\n",
    "    df[col+\"_discretization\"]=1\n",
    "    df.loc[df[col]<Q1,col+\"_discretization\"]=0\n",
    "    df.loc[((median>df[col]) & (df[col]>=Q1)),col+\"_discretization\"]=1\n",
    "    df.loc[((median<=df[col]) & (df[col]<=Q3)),col+\"_discretization\"]=2\n",
    "    df.loc[df[col]>Q3,col+\"_discretization\"]=3\n",
    "    return df"
   ]
  },
  {
   "cell_type": "code",
   "execution_count": 229,
   "metadata": {},
   "outputs": [],
   "source": [
    "df1new=discretization(df1new,\"number_of_reviews\")"
   ]
  },
  {
   "cell_type": "code",
   "execution_count": 230,
   "metadata": {},
   "outputs": [
    {
     "data": {
      "text/html": [
       "<div>\n",
       "<style scoped>\n",
       "    .dataframe tbody tr th:only-of-type {\n",
       "        vertical-align: middle;\n",
       "    }\n",
       "\n",
       "    .dataframe tbody tr th {\n",
       "        vertical-align: top;\n",
       "    }\n",
       "\n",
       "    .dataframe thead th {\n",
       "        text-align: right;\n",
       "    }\n",
       "</style>\n",
       "<table border=\"1\" class=\"dataframe\">\n",
       "  <thead>\n",
       "    <tr style=\"text-align: right;\">\n",
       "      <th></th>\n",
       "      <th>id</th>\n",
       "      <th>name</th>\n",
       "      <th>host_id</th>\n",
       "      <th>host_name</th>\n",
       "      <th>neighbourhood</th>\n",
       "      <th>latitude</th>\n",
       "      <th>longitude</th>\n",
       "      <th>room_type</th>\n",
       "      <th>price</th>\n",
       "      <th>minimum_nights_x</th>\n",
       "      <th>...</th>\n",
       "      <th>minimum_nights_y</th>\n",
       "      <th>number_of_reviews_y</th>\n",
       "      <th>reviews_per_month_y</th>\n",
       "      <th>availability_365_y</th>\n",
       "      <th>neighbourhood_count</th>\n",
       "      <th>minimum_nights</th>\n",
       "      <th>number_of_reviews</th>\n",
       "      <th>reviews_per_month</th>\n",
       "      <th>availability_365</th>\n",
       "      <th>number_of_reviews_discretization</th>\n",
       "    </tr>\n",
       "  </thead>\n",
       "  <tbody>\n",
       "    <tr>\n",
       "      <th>0</th>\n",
       "      <td>44054</td>\n",
       "      <td>Modern and Comfortable Living in CBD</td>\n",
       "      <td>192875</td>\n",
       "      <td>East Apartments</td>\n",
       "      <td>朝阳区</td>\n",
       "      <td>39.89503</td>\n",
       "      <td>116.45163</td>\n",
       "      <td>Entire home/apt</td>\n",
       "      <td>792</td>\n",
       "      <td>1</td>\n",
       "      <td>...</td>\n",
       "      <td>2.578336</td>\n",
       "      <td>7.037756</td>\n",
       "      <td>0.902845</td>\n",
       "      <td>248.198807</td>\n",
       "      <td>9639</td>\n",
       "      <td>2.997718</td>\n",
       "      <td>8.607117</td>\n",
       "      <td>0.976222</td>\n",
       "      <td>238.04959</td>\n",
       "      <td>2</td>\n",
       "    </tr>\n",
       "    <tr>\n",
       "      <th>1</th>\n",
       "      <td>162144</td>\n",
       "      <td>nice studio near subway, sleep 4</td>\n",
       "      <td>707535</td>\n",
       "      <td>Robert</td>\n",
       "      <td>朝阳区</td>\n",
       "      <td>39.93668</td>\n",
       "      <td>116.43798</td>\n",
       "      <td>Entire home/apt</td>\n",
       "      <td>537</td>\n",
       "      <td>1</td>\n",
       "      <td>...</td>\n",
       "      <td>2.578336</td>\n",
       "      <td>7.037756</td>\n",
       "      <td>0.902845</td>\n",
       "      <td>248.198807</td>\n",
       "      <td>9639</td>\n",
       "      <td>2.997718</td>\n",
       "      <td>8.607117</td>\n",
       "      <td>0.976222</td>\n",
       "      <td>238.04959</td>\n",
       "      <td>2</td>\n",
       "    </tr>\n",
       "    <tr>\n",
       "      <th>2</th>\n",
       "      <td>282825</td>\n",
       "      <td>Large 2 BR Apt in a great location</td>\n",
       "      <td>1466681</td>\n",
       "      <td>Florence</td>\n",
       "      <td>朝阳区</td>\n",
       "      <td>39.93712</td>\n",
       "      <td>116.45089</td>\n",
       "      <td>Entire home/apt</td>\n",
       "      <td>637</td>\n",
       "      <td>3</td>\n",
       "      <td>...</td>\n",
       "      <td>2.578336</td>\n",
       "      <td>7.037756</td>\n",
       "      <td>0.902845</td>\n",
       "      <td>248.198807</td>\n",
       "      <td>9639</td>\n",
       "      <td>2.997718</td>\n",
       "      <td>8.607117</td>\n",
       "      <td>0.976222</td>\n",
       "      <td>238.04959</td>\n",
       "      <td>2</td>\n",
       "    </tr>\n",
       "    <tr>\n",
       "      <th>3</th>\n",
       "      <td>287026</td>\n",
       "      <td>Studio in downtown Beijing #2</td>\n",
       "      <td>1456491</td>\n",
       "      <td>Vera</td>\n",
       "      <td>朝阳区</td>\n",
       "      <td>39.94115</td>\n",
       "      <td>116.44122</td>\n",
       "      <td>Entire home/apt</td>\n",
       "      <td>416</td>\n",
       "      <td>1</td>\n",
       "      <td>...</td>\n",
       "      <td>2.578336</td>\n",
       "      <td>7.037756</td>\n",
       "      <td>0.902845</td>\n",
       "      <td>248.198807</td>\n",
       "      <td>9639</td>\n",
       "      <td>2.997718</td>\n",
       "      <td>8.607117</td>\n",
       "      <td>0.976222</td>\n",
       "      <td>238.04959</td>\n",
       "      <td>2</td>\n",
       "    </tr>\n",
       "    <tr>\n",
       "      <th>4</th>\n",
       "      <td>322292</td>\n",
       "      <td>Cozy studio in downtown Beijing</td>\n",
       "      <td>1456491</td>\n",
       "      <td>Vera</td>\n",
       "      <td>朝阳区</td>\n",
       "      <td>39.93849</td>\n",
       "      <td>116.44066</td>\n",
       "      <td>Entire home/apt</td>\n",
       "      <td>436</td>\n",
       "      <td>1</td>\n",
       "      <td>...</td>\n",
       "      <td>2.578336</td>\n",
       "      <td>7.037756</td>\n",
       "      <td>0.902845</td>\n",
       "      <td>248.198807</td>\n",
       "      <td>9639</td>\n",
       "      <td>2.997718</td>\n",
       "      <td>8.607117</td>\n",
       "      <td>0.976222</td>\n",
       "      <td>238.04959</td>\n",
       "      <td>2</td>\n",
       "    </tr>\n",
       "  </tbody>\n",
       "</table>\n",
       "<p>5 rows × 30 columns</p>\n",
       "</div>"
      ],
      "text/plain": [
       "       id                                  name  host_id        host_name  \\\n",
       "0   44054  Modern and Comfortable Living in CBD   192875  East Apartments   \n",
       "1  162144     nice studio near subway, sleep 4    707535           Robert   \n",
       "2  282825    Large 2 BR Apt in a great location  1466681         Florence   \n",
       "3  287026         Studio in downtown Beijing #2  1456491             Vera   \n",
       "4  322292       Cozy studio in downtown Beijing  1456491             Vera   \n",
       "\n",
       "  neighbourhood  latitude  longitude        room_type  price  \\\n",
       "0           朝阳区  39.89503  116.45163  Entire home/apt    792   \n",
       "1           朝阳区  39.93668  116.43798  Entire home/apt    537   \n",
       "2           朝阳区  39.93712  116.45089  Entire home/apt    637   \n",
       "3           朝阳区  39.94115  116.44122  Entire home/apt    416   \n",
       "4           朝阳区  39.93849  116.44066  Entire home/apt    436   \n",
       "\n",
       "   minimum_nights_x  ...  minimum_nights_y number_of_reviews_y  \\\n",
       "0                 1  ...          2.578336            7.037756   \n",
       "1                 1  ...          2.578336            7.037756   \n",
       "2                 3  ...          2.578336            7.037756   \n",
       "3                 1  ...          2.578336            7.037756   \n",
       "4                 1  ...          2.578336            7.037756   \n",
       "\n",
       "   reviews_per_month_y  availability_365_y  neighbourhood_count  \\\n",
       "0             0.902845          248.198807                 9639   \n",
       "1             0.902845          248.198807                 9639   \n",
       "2             0.902845          248.198807                 9639   \n",
       "3             0.902845          248.198807                 9639   \n",
       "4             0.902845          248.198807                 9639   \n",
       "\n",
       "  minimum_nights  number_of_reviews reviews_per_month  availability_365  \\\n",
       "0       2.997718           8.607117          0.976222         238.04959   \n",
       "1       2.997718           8.607117          0.976222         238.04959   \n",
       "2       2.997718           8.607117          0.976222         238.04959   \n",
       "3       2.997718           8.607117          0.976222         238.04959   \n",
       "4       2.997718           8.607117          0.976222         238.04959   \n",
       "\n",
       "   number_of_reviews_discretization  \n",
       "0                                 2  \n",
       "1                                 2  \n",
       "2                                 2  \n",
       "3                                 2  \n",
       "4                                 2  \n",
       "\n",
       "[5 rows x 30 columns]"
      ]
     },
     "execution_count": 230,
     "metadata": {},
     "output_type": "execute_result"
    }
   ],
   "source": [
    "df1new.head()"
   ]
  },
  {
   "cell_type": "markdown",
   "metadata": {},
   "source": [
    "#### 两表整合"
   ]
  },
  {
   "cell_type": "code",
   "execution_count": 240,
   "metadata": {},
   "outputs": [],
   "source": [
    "DF=df2new.groupby(\"listing_id\")[\"Polarity\",\"ProbaPositive\",\"English_comments_len\",\"Chinese_comments_len\"].mean()"
   ]
  },
  {
   "cell_type": "code",
   "execution_count": 291,
   "metadata": {},
   "outputs": [],
   "source": [
    "df=pd.merge(df1new,DF,how=\"left\",left_on=\"id\",right_on=DF.index)"
   ]
  },
  {
   "cell_type": "code",
   "execution_count": 292,
   "metadata": {},
   "outputs": [],
   "source": [
    "df=df.drop(['id','name','host_id','host_name','Chinese_name','English_name'],axis=1)"
   ]
  },
  {
   "cell_type": "code",
   "execution_count": 293,
   "metadata": {},
   "outputs": [],
   "source": [
    "df[\"year\"]=df.last_review.dt.year #日期数据钻取，以便时间序列分析\n",
    "df[\"month\"]=df.last_review.dt.month\n",
    "df[\"weekday\"]=df.last_review.dt.weekday #返回周几"
   ]
  },
  {
   "cell_type": "code",
   "execution_count": 294,
   "metadata": {},
   "outputs": [],
   "source": [
    "df=df.drop(['last_review'],axis=1)"
   ]
  },
  {
   "cell_type": "code",
   "execution_count": 295,
   "metadata": {},
   "outputs": [],
   "source": [
    "df.ProbaPositive=df.ProbaPositive.fillna(value=0.40914866581956777)\n",
    "df.Chinese_comments_len=df.Chinese_comments_len.fillna(value=1)\n",
    "df.Polarity=df.Polarity.fillna(value=0)\n",
    "df.English_comments_len=df.English_comments_len.fillna(value=4)"
   ]
  },
  {
   "cell_type": "code",
   "execution_count": 296,
   "metadata": {},
   "outputs": [
    {
     "data": {
      "text/html": [
       "<div>\n",
       "<style scoped>\n",
       "    .dataframe tbody tr th:only-of-type {\n",
       "        vertical-align: middle;\n",
       "    }\n",
       "\n",
       "    .dataframe tbody tr th {\n",
       "        vertical-align: top;\n",
       "    }\n",
       "\n",
       "    .dataframe thead th {\n",
       "        text-align: right;\n",
       "    }\n",
       "</style>\n",
       "<table border=\"1\" class=\"dataframe\">\n",
       "  <thead>\n",
       "    <tr style=\"text-align: right;\">\n",
       "      <th></th>\n",
       "      <th>neighbourhood</th>\n",
       "      <th>latitude</th>\n",
       "      <th>longitude</th>\n",
       "      <th>room_type</th>\n",
       "      <th>price</th>\n",
       "      <th>minimum_nights_x</th>\n",
       "      <th>number_of_reviews_x</th>\n",
       "      <th>reviews_per_month_x</th>\n",
       "      <th>calculated_host_listings_count</th>\n",
       "      <th>availability_365_x</th>\n",
       "      <th>...</th>\n",
       "      <th>reviews_per_month</th>\n",
       "      <th>availability_365</th>\n",
       "      <th>number_of_reviews_discretization</th>\n",
       "      <th>Polarity</th>\n",
       "      <th>ProbaPositive</th>\n",
       "      <th>English_comments_len</th>\n",
       "      <th>Chinese_comments_len</th>\n",
       "      <th>year</th>\n",
       "      <th>month</th>\n",
       "      <th>weekday</th>\n",
       "    </tr>\n",
       "  </thead>\n",
       "  <tbody>\n",
       "    <tr>\n",
       "      <th>0</th>\n",
       "      <td>朝阳区</td>\n",
       "      <td>39.89503</td>\n",
       "      <td>116.45163</td>\n",
       "      <td>Entire home/apt</td>\n",
       "      <td>792</td>\n",
       "      <td>1</td>\n",
       "      <td>89</td>\n",
       "      <td>0.85</td>\n",
       "      <td>9</td>\n",
       "      <td>341</td>\n",
       "      <td>...</td>\n",
       "      <td>0.976222</td>\n",
       "      <td>238.04959</td>\n",
       "      <td>2</td>\n",
       "      <td>0.205774</td>\n",
       "      <td>0.511484</td>\n",
       "      <td>181.415730</td>\n",
       "      <td>24.876404</td>\n",
       "      <td>2019</td>\n",
       "      <td>3</td>\n",
       "      <td>0</td>\n",
       "    </tr>\n",
       "    <tr>\n",
       "      <th>1</th>\n",
       "      <td>朝阳区</td>\n",
       "      <td>39.93668</td>\n",
       "      <td>116.43798</td>\n",
       "      <td>Entire home/apt</td>\n",
       "      <td>537</td>\n",
       "      <td>1</td>\n",
       "      <td>37</td>\n",
       "      <td>0.40</td>\n",
       "      <td>5</td>\n",
       "      <td>352</td>\n",
       "      <td>...</td>\n",
       "      <td>0.976222</td>\n",
       "      <td>238.04959</td>\n",
       "      <td>2</td>\n",
       "      <td>0.204663</td>\n",
       "      <td>0.491734</td>\n",
       "      <td>340.459459</td>\n",
       "      <td>12.297297</td>\n",
       "      <td>2018</td>\n",
       "      <td>8</td>\n",
       "      <td>2</td>\n",
       "    </tr>\n",
       "    <tr>\n",
       "      <th>2</th>\n",
       "      <td>朝阳区</td>\n",
       "      <td>39.93712</td>\n",
       "      <td>116.45089</td>\n",
       "      <td>Entire home/apt</td>\n",
       "      <td>637</td>\n",
       "      <td>3</td>\n",
       "      <td>107</td>\n",
       "      <td>1.26</td>\n",
       "      <td>1</td>\n",
       "      <td>78</td>\n",
       "      <td>...</td>\n",
       "      <td>0.976222</td>\n",
       "      <td>238.04959</td>\n",
       "      <td>2</td>\n",
       "      <td>0.345077</td>\n",
       "      <td>0.465642</td>\n",
       "      <td>369.934579</td>\n",
       "      <td>14.317757</td>\n",
       "      <td>2019</td>\n",
       "      <td>4</td>\n",
       "      <td>0</td>\n",
       "    </tr>\n",
       "    <tr>\n",
       "      <th>3</th>\n",
       "      <td>朝阳区</td>\n",
       "      <td>39.94115</td>\n",
       "      <td>116.44122</td>\n",
       "      <td>Entire home/apt</td>\n",
       "      <td>416</td>\n",
       "      <td>1</td>\n",
       "      <td>3</td>\n",
       "      <td>0.03</td>\n",
       "      <td>9</td>\n",
       "      <td>106</td>\n",
       "      <td>...</td>\n",
       "      <td>0.976222</td>\n",
       "      <td>238.04959</td>\n",
       "      <td>2</td>\n",
       "      <td>0.066618</td>\n",
       "      <td>0.409149</td>\n",
       "      <td>615.333333</td>\n",
       "      <td>1.000000</td>\n",
       "      <td>2012</td>\n",
       "      <td>9</td>\n",
       "      <td>4</td>\n",
       "    </tr>\n",
       "    <tr>\n",
       "      <th>4</th>\n",
       "      <td>朝阳区</td>\n",
       "      <td>39.93849</td>\n",
       "      <td>116.44066</td>\n",
       "      <td>Entire home/apt</td>\n",
       "      <td>436</td>\n",
       "      <td>1</td>\n",
       "      <td>11</td>\n",
       "      <td>0.13</td>\n",
       "      <td>9</td>\n",
       "      <td>361</td>\n",
       "      <td>...</td>\n",
       "      <td>0.976222</td>\n",
       "      <td>238.04959</td>\n",
       "      <td>2</td>\n",
       "      <td>0.444428</td>\n",
       "      <td>0.409149</td>\n",
       "      <td>354.636364</td>\n",
       "      <td>1.000000</td>\n",
       "      <td>2015</td>\n",
       "      <td>5</td>\n",
       "      <td>6</td>\n",
       "    </tr>\n",
       "  </tbody>\n",
       "</table>\n",
       "<p>5 rows × 30 columns</p>\n",
       "</div>"
      ],
      "text/plain": [
       "  neighbourhood  latitude  longitude        room_type  price  \\\n",
       "0           朝阳区  39.89503  116.45163  Entire home/apt    792   \n",
       "1           朝阳区  39.93668  116.43798  Entire home/apt    537   \n",
       "2           朝阳区  39.93712  116.45089  Entire home/apt    637   \n",
       "3           朝阳区  39.94115  116.44122  Entire home/apt    416   \n",
       "4           朝阳区  39.93849  116.44066  Entire home/apt    436   \n",
       "\n",
       "   minimum_nights_x  number_of_reviews_x  reviews_per_month_x  \\\n",
       "0                 1                   89                 0.85   \n",
       "1                 1                   37                 0.40   \n",
       "2                 3                  107                 1.26   \n",
       "3                 1                    3                 0.03   \n",
       "4                 1                   11                 0.13   \n",
       "\n",
       "   calculated_host_listings_count  availability_365_x  ...  reviews_per_month  \\\n",
       "0                               9                 341  ...           0.976222   \n",
       "1                               5                 352  ...           0.976222   \n",
       "2                               1                  78  ...           0.976222   \n",
       "3                               9                 106  ...           0.976222   \n",
       "4                               9                 361  ...           0.976222   \n",
       "\n",
       "   availability_365  number_of_reviews_discretization  Polarity  \\\n",
       "0         238.04959                                 2  0.205774   \n",
       "1         238.04959                                 2  0.204663   \n",
       "2         238.04959                                 2  0.345077   \n",
       "3         238.04959                                 2  0.066618   \n",
       "4         238.04959                                 2  0.444428   \n",
       "\n",
       "   ProbaPositive  English_comments_len  Chinese_comments_len  year  month  \\\n",
       "0       0.511484            181.415730             24.876404  2019      3   \n",
       "1       0.491734            340.459459             12.297297  2018      8   \n",
       "2       0.465642            369.934579             14.317757  2019      4   \n",
       "3       0.409149            615.333333              1.000000  2012      9   \n",
       "4       0.409149            354.636364              1.000000  2015      5   \n",
       "\n",
       "   weekday  \n",
       "0        0  \n",
       "1        2  \n",
       "2        0  \n",
       "3        4  \n",
       "4        6  \n",
       "\n",
       "[5 rows x 30 columns]"
      ]
     },
     "execution_count": 296,
     "metadata": {},
     "output_type": "execute_result"
    }
   ],
   "source": [
    "df.head()"
   ]
  },
  {
   "cell_type": "code",
   "execution_count": 300,
   "metadata": {},
   "outputs": [
    {
     "data": {
      "text/plain": [
       "(25811, 30)"
      ]
     },
     "execution_count": 300,
     "metadata": {},
     "output_type": "execute_result"
    }
   ],
   "source": [
    "df.shape"
   ]
  },
  {
   "cell_type": "code",
   "execution_count": 266,
   "metadata": {},
   "outputs": [
    {
     "data": {
      "text/plain": [
       "(25811, 30)"
      ]
     },
     "execution_count": 266,
     "metadata": {},
     "output_type": "execute_result"
    }
   ],
   "source": [
    "df1new.shape"
   ]
  },
  {
   "cell_type": "markdown",
   "metadata": {},
   "source": [
    "### 2.2.2 特征数据转换"
   ]
  },
  {
   "cell_type": "markdown",
   "metadata": {},
   "source": [
    "最后，根据Quora的这个回答，并不是所有的算法都需要对特征做归一化和独热编码：\n",
    "\n",
    "基于参数的模型需要做特征归一化的独热编码，如GLM、SVM、Neural Network。\n",
    "基于距离的模型需要做特征归一化的独热编码，如KNN。\n",
    "基于树的算法不需要做特征归一化和独热编码，如c4.5、Cart、Random Forrest、Bagging或Boosting。（看Kaggle案例的时候发现有人用XGBoost的时候做了独热编码，所以这一块不太确定到底要不要做独热编码……）"
   ]
  },
  {
   "cell_type": "markdown",
   "metadata": {},
   "source": [
    "#### 类别数据处理"
   ]
  },
  {
   "cell_type": "markdown",
   "metadata": {},
   "source": [
    "##### 序号编码"
   ]
  },
  {
   "cell_type": "code",
   "execution_count": 310,
   "metadata": {},
   "outputs": [],
   "source": [
    "#所有分类型变量都要进行序号编码，才能输入模型\n",
    "#序号编码，通常用来处理类别间具有大小关系的数据，比如成绩(高中低)\n",
    "#如果类别间不具有大小关系，则需要在序号编码后进一步进行独热编码\n",
    "def get_lables(df,cols):\n",
    "    from sklearn.preprocessing import LabelEncoder\n",
    "    le = LabelEncoder()\n",
    "    for col in cols:\n",
    "        df[col]=le.fit_transform(df[col].values)\n",
    "    return df"
   ]
  },
  {
   "cell_type": "code",
   "execution_count": 314,
   "metadata": {},
   "outputs": [],
   "source": [
    "df=get_lables(df,[\"neighbourhood\",\"room_type\"])"
   ]
  },
  {
   "cell_type": "markdown",
   "metadata": {},
   "source": [
    "##### 独热编码"
   ]
  },
  {
   "cell_type": "markdown",
   "metadata": {},
   "source": [
    "独热编码(One-hot Encoding)，通常用于处理类别间不具有大小关系的特征，比如血型(A型血、B型血、AB型血、O型血)，\n",
    "独热编码会把血型变成一个稀疏向量，A型血表示为(1,0,0,0)，B型血表示为(0,1,0,0)，AB型血表示为(0,0,1,0)，O型血表示为(0,0,0,1)\n",
    "基于树的模型不需要进行独热编码"
   ]
  },
  {
   "cell_type": "code",
   "execution_count": 315,
   "metadata": {},
   "outputs": [],
   "source": [
    "dftemp= pd.get_dummies(df,columns=['neighbourhood',\"room_type\"])"
   ]
  },
  {
   "cell_type": "code",
   "execution_count": 316,
   "metadata": {},
   "outputs": [
    {
     "data": {
      "text/html": [
       "<div>\n",
       "<style scoped>\n",
       "    .dataframe tbody tr th:only-of-type {\n",
       "        vertical-align: middle;\n",
       "    }\n",
       "\n",
       "    .dataframe tbody tr th {\n",
       "        vertical-align: top;\n",
       "    }\n",
       "\n",
       "    .dataframe thead th {\n",
       "        text-align: right;\n",
       "    }\n",
       "</style>\n",
       "<table border=\"1\" class=\"dataframe\">\n",
       "  <thead>\n",
       "    <tr style=\"text-align: right;\">\n",
       "      <th></th>\n",
       "      <th>latitude</th>\n",
       "      <th>longitude</th>\n",
       "      <th>price</th>\n",
       "      <th>minimum_nights_x</th>\n",
       "      <th>number_of_reviews_x</th>\n",
       "      <th>reviews_per_month_x</th>\n",
       "      <th>calculated_host_listings_count</th>\n",
       "      <th>availability_365_x</th>\n",
       "      <th>Chinese_name_len</th>\n",
       "      <th>English_name_len</th>\n",
       "      <th>...</th>\n",
       "      <th>neighbourhood_9</th>\n",
       "      <th>neighbourhood_10</th>\n",
       "      <th>neighbourhood_11</th>\n",
       "      <th>neighbourhood_12</th>\n",
       "      <th>neighbourhood_13</th>\n",
       "      <th>neighbourhood_14</th>\n",
       "      <th>neighbourhood_15</th>\n",
       "      <th>room_type_0</th>\n",
       "      <th>room_type_1</th>\n",
       "      <th>room_type_2</th>\n",
       "    </tr>\n",
       "  </thead>\n",
       "  <tbody>\n",
       "    <tr>\n",
       "      <th>0</th>\n",
       "      <td>39.89503</td>\n",
       "      <td>116.45163</td>\n",
       "      <td>792</td>\n",
       "      <td>1</td>\n",
       "      <td>89</td>\n",
       "      <td>0.85</td>\n",
       "      <td>9</td>\n",
       "      <td>341</td>\n",
       "      <td>1</td>\n",
       "      <td>36</td>\n",
       "      <td>...</td>\n",
       "      <td>1</td>\n",
       "      <td>0</td>\n",
       "      <td>0</td>\n",
       "      <td>0</td>\n",
       "      <td>0</td>\n",
       "      <td>0</td>\n",
       "      <td>0</td>\n",
       "      <td>1</td>\n",
       "      <td>0</td>\n",
       "      <td>0</td>\n",
       "    </tr>\n",
       "    <tr>\n",
       "      <th>1</th>\n",
       "      <td>39.93668</td>\n",
       "      <td>116.43798</td>\n",
       "      <td>537</td>\n",
       "      <td>1</td>\n",
       "      <td>37</td>\n",
       "      <td>0.40</td>\n",
       "      <td>5</td>\n",
       "      <td>352</td>\n",
       "      <td>1</td>\n",
       "      <td>33</td>\n",
       "      <td>...</td>\n",
       "      <td>1</td>\n",
       "      <td>0</td>\n",
       "      <td>0</td>\n",
       "      <td>0</td>\n",
       "      <td>0</td>\n",
       "      <td>0</td>\n",
       "      <td>0</td>\n",
       "      <td>1</td>\n",
       "      <td>0</td>\n",
       "      <td>0</td>\n",
       "    </tr>\n",
       "    <tr>\n",
       "      <th>2</th>\n",
       "      <td>39.93712</td>\n",
       "      <td>116.45089</td>\n",
       "      <td>637</td>\n",
       "      <td>3</td>\n",
       "      <td>107</td>\n",
       "      <td>1.26</td>\n",
       "      <td>1</td>\n",
       "      <td>78</td>\n",
       "      <td>1</td>\n",
       "      <td>34</td>\n",
       "      <td>...</td>\n",
       "      <td>1</td>\n",
       "      <td>0</td>\n",
       "      <td>0</td>\n",
       "      <td>0</td>\n",
       "      <td>0</td>\n",
       "      <td>0</td>\n",
       "      <td>0</td>\n",
       "      <td>1</td>\n",
       "      <td>0</td>\n",
       "      <td>0</td>\n",
       "    </tr>\n",
       "    <tr>\n",
       "      <th>3</th>\n",
       "      <td>39.94115</td>\n",
       "      <td>116.44122</td>\n",
       "      <td>416</td>\n",
       "      <td>1</td>\n",
       "      <td>3</td>\n",
       "      <td>0.03</td>\n",
       "      <td>9</td>\n",
       "      <td>106</td>\n",
       "      <td>1</td>\n",
       "      <td>29</td>\n",
       "      <td>...</td>\n",
       "      <td>1</td>\n",
       "      <td>0</td>\n",
       "      <td>0</td>\n",
       "      <td>0</td>\n",
       "      <td>0</td>\n",
       "      <td>0</td>\n",
       "      <td>0</td>\n",
       "      <td>1</td>\n",
       "      <td>0</td>\n",
       "      <td>0</td>\n",
       "    </tr>\n",
       "    <tr>\n",
       "      <th>4</th>\n",
       "      <td>39.93849</td>\n",
       "      <td>116.44066</td>\n",
       "      <td>436</td>\n",
       "      <td>1</td>\n",
       "      <td>11</td>\n",
       "      <td>0.13</td>\n",
       "      <td>9</td>\n",
       "      <td>361</td>\n",
       "      <td>1</td>\n",
       "      <td>31</td>\n",
       "      <td>...</td>\n",
       "      <td>1</td>\n",
       "      <td>0</td>\n",
       "      <td>0</td>\n",
       "      <td>0</td>\n",
       "      <td>0</td>\n",
       "      <td>0</td>\n",
       "      <td>0</td>\n",
       "      <td>1</td>\n",
       "      <td>0</td>\n",
       "      <td>0</td>\n",
       "    </tr>\n",
       "  </tbody>\n",
       "</table>\n",
       "<p>5 rows × 47 columns</p>\n",
       "</div>"
      ],
      "text/plain": [
       "   latitude  longitude  price  minimum_nights_x  number_of_reviews_x  \\\n",
       "0  39.89503  116.45163    792                 1                   89   \n",
       "1  39.93668  116.43798    537                 1                   37   \n",
       "2  39.93712  116.45089    637                 3                  107   \n",
       "3  39.94115  116.44122    416                 1                    3   \n",
       "4  39.93849  116.44066    436                 1                   11   \n",
       "\n",
       "   reviews_per_month_x  calculated_host_listings_count  availability_365_x  \\\n",
       "0                 0.85                               9                 341   \n",
       "1                 0.40                               5                 352   \n",
       "2                 1.26                               1                  78   \n",
       "3                 0.03                               9                 106   \n",
       "4                 0.13                               9                 361   \n",
       "\n",
       "   Chinese_name_len  English_name_len  ...  neighbourhood_9  neighbourhood_10  \\\n",
       "0                 1                36  ...                1                 0   \n",
       "1                 1                33  ...                1                 0   \n",
       "2                 1                34  ...                1                 0   \n",
       "3                 1                29  ...                1                 0   \n",
       "4                 1                31  ...                1                 0   \n",
       "\n",
       "   neighbourhood_11  neighbourhood_12  neighbourhood_13  neighbourhood_14  \\\n",
       "0                 0                 0                 0                 0   \n",
       "1                 0                 0                 0                 0   \n",
       "2                 0                 0                 0                 0   \n",
       "3                 0                 0                 0                 0   \n",
       "4                 0                 0                 0                 0   \n",
       "\n",
       "   neighbourhood_15  room_type_0  room_type_1  room_type_2  \n",
       "0                 0            1            0            0  \n",
       "1                 0            1            0            0  \n",
       "2                 0            1            0            0  \n",
       "3                 0            1            0            0  \n",
       "4                 0            1            0            0  \n",
       "\n",
       "[5 rows x 47 columns]"
      ]
     },
     "execution_count": 316,
     "metadata": {},
     "output_type": "execute_result"
    }
   ],
   "source": [
    "dftemp.head()"
   ]
  },
  {
   "cell_type": "markdown",
   "metadata": {},
   "source": [
    "#### 数值型特征标准化"
   ]
  },
  {
   "cell_type": "markdown",
   "metadata": {},
   "source": [
    "本文将使用树结构的XGB模块，因此暂时不需要数据归一化。"
   ]
  },
  {
   "cell_type": "markdown",
   "metadata": {},
   "source": [
    "## 2.3 特征选择"
   ]
  },
  {
   "cell_type": "markdown",
   "metadata": {},
   "source": [
    "## 2.4 特征降维"
   ]
  },
  {
   "cell_type": "markdown",
   "metadata": {},
   "source": [
    "# 3 数据建模"
   ]
  },
  {
   "cell_type": "code",
   "execution_count": null,
   "metadata": {},
   "outputs": [],
   "source": [
    "import xgboost as xgb #原生xgb\n",
    "from xgboost.sklearn import XGBClassifier #sklearn版的xgb\n",
    "from xgboost import plot_importance\n",
    "from sklearn.model_selection import train_test_split,StratifiedKFold,GridSearchCV\n",
    "from sklearn.metrics import accuracy_score,confusion_matrix, mean_squared_error,roc_auc_score  # 评估标准"
   ]
  },
  {
   "cell_type": "code",
   "execution_count": 351,
   "metadata": {},
   "outputs": [],
   "source": [
    "X=df.drop(\"price\",axis=1) #数据集特征\n",
    "Y=df[\"price\"] #数据集标签\n",
    "df_matrix = xgb.DMatrix(X,Y) #dmatrix 格式 在xgboost当中运行速度更快，性能更好。"
   ]
  },
  {
   "cell_type": "markdown",
   "metadata": {},
   "source": [
    "## baseline建模"
   ]
  },
  {
   "cell_type": "code",
   "execution_count": 333,
   "metadata": {},
   "outputs": [],
   "source": [
    "X_train, X_test, Y_train, Y_test = train_test_split(X, Y, test_size=0.33, random_state=42)\n",
    "X_predict=train_test_split(X, Y, test_size=0.7, random_state=0)[0] #由于没有提供预测集，暂且从原数据集中抽取一部分"
   ]
  },
  {
   "cell_type": "code",
   "execution_count": 410,
   "metadata": {},
   "outputs": [
    {
     "name": "stdout",
     "output_type": "stream",
     "text": [
      "[22:39:59] WARNING: C:/Users/Administrator/workspace/xgboost-win64_release_1.0.0/src/objective/regression_obj.cu:167: reg:linear is now deprecated in favor of reg:squarederror.\n"
     ]
    },
    {
     "data": {
      "text/plain": [
       "XGBRegressor(base_score=0.5, booster=None, colsample_bylevel=1,\n",
       "             colsample_bynode=1, colsample_bytree=1, gamma=0, gpu_id=-1,\n",
       "             importance_type='gain', interaction_constraints=None,\n",
       "             learning_rate=0.2, max_delta_step=0, max_depth=5,\n",
       "             min_child_weight=1, missing=nan, monotone_constraints=None,\n",
       "             n_estimators=100, n_jobs=0, num_parallel_tree=1,\n",
       "             objective='reg:linear', random_state=0, reg_alpha=0, reg_lambda=1,\n",
       "             scale_pos_weight=1, silent=False, subsample=1, tree_method=None,\n",
       "             validate_parameters=False, verbosity=None)"
      ]
     },
     "execution_count": 410,
     "metadata": {},
     "output_type": "execute_result"
    }
   ],
   "source": [
    "#建立模型\n",
    "model = xgb.XGBRegressor(max_depth=5, learning_rate=0.2, n_estimators=100, silent=False, objective=\"reg:linear\") \n",
    "#训练模型\n",
    "model.fit(X_train, Y_train)"
   ]
  },
  {
   "cell_type": "code",
   "execution_count": 407,
   "metadata": {},
   "outputs": [
    {
     "name": "stdout",
     "output_type": "stream",
     "text": [
      "0.7680717211926911\n",
      "0.026139476183229093\n",
      "1400066.0678056036\n"
     ]
    }
   ],
   "source": [
    "# 对训练集和测试集进行评估\n",
    "score_train=model.score(X_train,Y_train)\n",
    "score_test=model.score(X_test,Y_test)\n",
    "print(score_train)\n",
    "print(score_test)\n",
    "pred= model.predict(X_test)\n",
    "print(mean_squared_error(pred,Y_test))"
   ]
  },
  {
   "cell_type": "code",
   "execution_count": null,
   "metadata": {},
   "outputs": [],
   "source": [
    "#对预测集进行预测\n",
    "ans = model.predict(X_predict)"
   ]
  },
  {
   "cell_type": "markdown",
   "metadata": {},
   "source": [
    "## 交叉建模验证"
   ]
  },
  {
   "cell_type": "code",
   "execution_count": 411,
   "metadata": {},
   "outputs": [
    {
     "name": "stdout",
     "output_type": "stream",
     "text": [
      "[22:40:33] WARNING: C:/Users/Administrator/workspace/xgboost-win64_release_1.0.0/src/objective/regression_obj.cu:167: reg:linear is now deprecated in favor of reg:squarederror.\n",
      "[22:40:33] WARNING: C:/Users/Administrator/workspace/xgboost-win64_release_1.0.0/src/objective/regression_obj.cu:167: reg:linear is now deprecated in favor of reg:squarederror.\n",
      "[22:40:33] WARNING: C:/Users/Administrator/workspace/xgboost-win64_release_1.0.0/src/objective/regression_obj.cu:167: reg:linear is now deprecated in favor of reg:squarederror.\n",
      "[22:40:33] WARNING: C:/Users/Administrator/workspace/xgboost-win64_release_1.0.0/src/objective/regression_obj.cu:167: reg:linear is now deprecated in favor of reg:squarederror.\n",
      "[22:40:33] WARNING: C:/Users/Administrator/workspace/xgboost-win64_release_1.0.0/src/objective/regression_obj.cu:167: reg:linear is now deprecated in favor of reg:squarederror.\n"
     ]
    },
    {
     "data": {
      "text/html": [
       "<div>\n",
       "<style scoped>\n",
       "    .dataframe tbody tr th:only-of-type {\n",
       "        vertical-align: middle;\n",
       "    }\n",
       "\n",
       "    .dataframe tbody tr th {\n",
       "        vertical-align: top;\n",
       "    }\n",
       "\n",
       "    .dataframe thead th {\n",
       "        text-align: right;\n",
       "    }\n",
       "</style>\n",
       "<table border=\"1\" class=\"dataframe\">\n",
       "  <thead>\n",
       "    <tr style=\"text-align: right;\">\n",
       "      <th></th>\n",
       "      <th>train-rmse-mean</th>\n",
       "      <th>train-rmse-std</th>\n",
       "      <th>test-rmse-mean</th>\n",
       "      <th>test-rmse-std</th>\n",
       "    </tr>\n",
       "  </thead>\n",
       "  <tbody>\n",
       "    <tr>\n",
       "      <th>8</th>\n",
       "      <td>1096.742627</td>\n",
       "      <td>71.546071</td>\n",
       "      <td>1214.485473</td>\n",
       "      <td>371.337785</td>\n",
       "    </tr>\n",
       "  </tbody>\n",
       "</table>\n",
       "</div>"
      ],
      "text/plain": [
       "   train-rmse-mean  train-rmse-std  test-rmse-mean  test-rmse-std\n",
       "8      1096.742627       71.546071     1214.485473     371.337785"
      ]
     },
     "execution_count": 411,
     "metadata": {},
     "output_type": "execute_result"
    }
   ],
   "source": [
    "xgb_param = model.get_xgb_params()\n",
    "cv_results = xgb.cv(dtrain=df_matrix, params=xgb_param, nfold=5,\n",
    "                    num_boost_round=50,early_stopping_rounds=10,metrics=\"rmse\", as_pandas=True, seed=0)\n",
    "cv_results.tail(1)"
   ]
  },
  {
   "cell_type": "markdown",
   "metadata": {},
   "source": [
    "## 结果可视化"
   ]
  },
  {
   "cell_type": "code",
   "execution_count": 368,
   "metadata": {},
   "outputs": [
    {
     "name": "stdout",
     "output_type": "stream",
     "text": [
      "[20:01:31] WARNING: C:/Users/Administrator/workspace/xgboost-win64_release_1.0.0/src/objective/regression_obj.cu:167: reg:linear is now deprecated in favor of reg:squarederror.\n"
     ]
    },
    {
     "data": {
      "image/png": "[encoded data removed]",
      "text/plain": [
       "<Figure size 5760x4320 with 1 Axes>"
      ]
     },
     "metadata": {},
     "output_type": "display_data"
    }
   ],
   "source": [
    "#决策树可视化\n",
    "xg_reg = xgb.train(params=xgb_param , dtrain=df_matrix, num_boost_round=10) #建模\n",
    "xgb.plot_tree(xg_reg,num_trees=0)\n",
    "plt.show()"
   ]
  },
  {
   "cell_type": "code",
   "execution_count": 385,
   "metadata": {},
   "outputs": [
    {
     "data": {
      "image/png": "[encoded data removed]",
      "text/plain": [
       "<Figure size 720x504 with 1 Axes>"
      ]
     },
     "metadata": {},
     "output_type": "display_data"
    }
   ],
   "source": [
    "# 显示重要特征\n",
    "plot_importance(xg_reg)\n",
    "plt.rcParams['figure.figsize'] = [5, 7]\n",
    "plt.show()"
   ]
  },
  {
   "cell_type": "markdown",
   "metadata": {},
   "source": [
    "## 3.3 模型调参"
   ]
  },
  {
   "cell_type": "markdown",
   "metadata": {},
   "source": [
    "### 调节 n_estimators"
   ]
  },
  {
   "cell_type": "code",
   "execution_count": 404,
   "metadata": {},
   "outputs": [
    {
     "name": "stdout",
     "output_type": "stream",
     "text": [
      "({'n_estimators': 15}, 0.09163060384214497)\n"
     ]
    }
   ],
   "source": [
    "cv_params = {'n_estimators': [10,15,20,25,30,35,40,50]} #待调节参数,n_estimator是评估器的数量\n",
    "params = {'learning_rate': 0.1, 'n_estimators': 500, 'max_depth': 5, \n",
    "          'min_child_weight': 1, 'seed': 0,'subsample': 0.8,\n",
    "          'colsample_bytree': 0.8, 'gamma': 0, 'reg_alpha': 0, 'reg_lambda': 1}\n",
    "\n",
    "def tunning(params,cv_params):\n",
    "    model = xgb.XGBRegressor(**params)\n",
    "    optimized_GBM = GridSearchCV(estimator=model, param_grid=cv_params, \n",
    "                    scoring='r2', cv=5, verbose=0, n_jobs=-1)\n",
    "    optimized_GBM.fit(X_train, Y_train)\n",
    "    return optimized_GBM.best_params_,optimized_GBM.best_score_\n",
    "\n",
    "print(tunning(params,cv_params))"
   ]
  },
  {
   "cell_type": "markdown",
   "metadata": {},
   "source": [
    "### 调节和booster相关参数"
   ]
  },
  {
   "cell_type": "code",
   "execution_count": 395,
   "metadata": {},
   "outputs": [
    {
     "name": "stdout",
     "output_type": "stream",
     "text": [
      "{'max_depth': 4, 'min_child_weight': 1}\n",
      "0.12265088101571728\n"
     ]
    }
   ],
   "source": [
    "cv_params = {'max_depth': [3, 4, 5, 6, 7, 8, 9, 10], 'min_child_weight': [1, 2, 3]}\n",
    "params = {'learning_rate': 0.1, 'n_estimators': 15, 'max_depth': 5, \n",
    "          'min_child_weight': 1, 'seed': 0,\n",
    "           'subsample': 0.8, 'colsample_bytree': 0.8, 'gamma': 0, 'reg_alpha': 0, 'reg_lambda': 1}\n",
    "print(tunning(params,cv_params))"
   ]
  },
  {
   "cell_type": "code",
   "execution_count": 397,
   "metadata": {},
   "outputs": [
    {
     "name": "stdout",
     "output_type": "stream",
     "text": [
      "{'colsample_bytree': 0.7, 'gamma': 0.1, 'subsample': 0.9}\n",
      "0.1283456358051421\n"
     ]
    }
   ],
   "source": [
    "cv_params = {'gamma': [0.1, 0.2, 0.3, 0.4, 0.5, 0.6],'subsample': [0.5,0.6,0.7,0.8,0.9,1],'colsample_bytree':[0.5,0.6,0.7,0.8,0.9,1]}\n",
    "params = {'learning_rate': 0.1, 'n_estimators': 15, 'max_depth': 4, \n",
    "          'min_child_weight': 1, 'seed': 0,\n",
    "           'subsample': 0.8, 'colsample_bytree': 0.8, 'gamma': 0, 'reg_alpha': 0, 'reg_lambda': 1}\n",
    "print(tunning(params,cv_params))"
   ]
  },
  {
   "cell_type": "code",
   "execution_count": 403,
   "metadata": {},
   "outputs": [
    {
     "name": "stdout",
     "output_type": "stream",
     "text": [
      "{'reg_alpha': 0, 'reg_lambda': 1}\n",
      "0.1283456358051421\n"
     ]
    }
   ],
   "source": [
    "cv_params = {'reg_alpha':[0, 0.001, 0.005, 0.01, 0.05], 'reg_lambda':[1,0.9,0.8,0.7] }\n",
    "params = {'learning_rate': 0.1, 'n_estimators': 15, 'max_depth': 4, \n",
    "          'min_child_weight': 1, 'seed': 0,\n",
    "           'subsample': 0.9, 'colsample_bytree': 0.7, 'gamma': 0.1, 'reg_alpha': 0, 'reg_lambda': 1}\n",
    "print(tunning(params,cv_params))"
   ]
  },
  {
   "cell_type": "markdown",
   "metadata": {},
   "source": [
    "### 调节 learning rate"
   ]
  },
  {
   "cell_type": "code",
   "execution_count": 400,
   "metadata": {},
   "outputs": [
    {
     "name": "stdout",
     "output_type": "stream",
     "text": [
      "{'learning_rate': 0.15}\n",
      "0.13412123423928202\n"
     ]
    }
   ],
   "source": [
    "cv_params = {'learning_rate': [0.01, 0.05, 0.07,0.1,0.13,0.15,0.18,0.2]}\n",
    "params = {'learning_rate': 0.1, 'n_estimators': 15, 'max_depth': 4, 'min_child_weight': 1, 'seed': 0,\n",
    "                    'subsample': 0.9, 'colsample_bytree': 0.7, 'gamma': 0.1, 'reg_alpha': 0, 'reg_lambda': 1}\n",
    "\n",
    "print(tunning(params,cv_params))"
   ]
  },
  {
   "cell_type": "markdown",
   "metadata": {},
   "source": [
    "### 参数调优后结果"
   ]
  },
  {
   "cell_type": "code",
   "execution_count": 409,
   "metadata": {},
   "outputs": [
    {
     "name": "stdout",
     "output_type": "stream",
     "text": [
      "0.8985572265607505\n",
      "0.04923171828201267\n",
      "1366867.6129946948\n"
     ]
    },
    {
     "data": {
      "text/html": [
       "<div>\n",
       "<style scoped>\n",
       "    .dataframe tbody tr th:only-of-type {\n",
       "        vertical-align: middle;\n",
       "    }\n",
       "\n",
       "    .dataframe tbody tr th {\n",
       "        vertical-align: top;\n",
       "    }\n",
       "\n",
       "    .dataframe thead th {\n",
       "        text-align: right;\n",
       "    }\n",
       "</style>\n",
       "<table border=\"1\" class=\"dataframe\">\n",
       "  <thead>\n",
       "    <tr style=\"text-align: right;\">\n",
       "      <th></th>\n",
       "      <th>train-rmse-mean</th>\n",
       "      <th>train-rmse-std</th>\n",
       "      <th>test-rmse-mean</th>\n",
       "      <th>test-rmse-std</th>\n",
       "    </tr>\n",
       "  </thead>\n",
       "  <tbody>\n",
       "    <tr>\n",
       "      <th>36</th>\n",
       "      <td>976.294434</td>\n",
       "      <td>70.252195</td>\n",
       "      <td>1206.375342</td>\n",
       "      <td>371.984831</td>\n",
       "    </tr>\n",
       "  </tbody>\n",
       "</table>\n",
       "</div>"
      ],
      "text/plain": [
       "    train-rmse-mean  train-rmse-std  test-rmse-mean  test-rmse-std\n",
       "36       976.294434       70.252195     1206.375342     371.984831"
      ]
     },
     "execution_count": 409,
     "metadata": {},
     "output_type": "execute_result"
    }
   ],
   "source": [
    "best_params = {'learning_rate': 0.15, 'n_estimators': 15, 'max_depth': 4, 'min_child_weight': 1, 'seed': 0,\n",
    "                    'subsample': 0.9, 'colsample_bytree': 0.7, 'gamma': 0.1, 'reg_alpha': 0, 'reg_lambda': 1}\n",
    "model = xgb.XGBRegressor(**params)\n",
    "model.fit(X_train, Y_train)\n",
    "# 对训练集和测试集进行评估\n",
    "score_train=model.score(X_train,Y_train)\n",
    "score_test=model.score(X_test,Y_test)\n",
    "print(score_train)\n",
    "print(score_test)\n",
    "pred= model.predict(X_test)\n",
    "print(mean_squared_error(pred,Y_test))\n",
    "xgb_param = model.get_xgb_params()\n",
    "cv_results = xgb.cv(dtrain=df_matrix, params=xgb_param, nfold=5,\n",
    "                    num_boost_round=50,early_stopping_rounds=10,metrics=\"rmse\", as_pandas=True, seed=0)\n",
    "cv_results.tail(1)"
   ]
  },
  {
   "cell_type": "markdown",
   "metadata": {},
   "source": [
    "参数调整后MSE由1400066下降至1326715；train-rmse-mean\ttrain-rmse-std\ttest-rmse-mean\ttest-rmse-std；交叉验证下各项数值均有所下降。\n"
   ]
  },
  {
   "cell_type": "markdown",
   "metadata": {},
   "source": [
    "# 4 总结"
   ]
  },
  {
   "cell_type": "markdown",
   "metadata": {},
   "source": [
    "本文详细地介绍Airbnb数据集的特征工程创建，XGB建模以及调参过程。根据结果显示，调参后的模型能够有效提升回归精度。\n",
    "但从目前结果来看，仍然存在许多问题。1.训练集与验证集得分差异巨大，可能存在过拟合问题；2.MSE或者RMSE值均偏大，可能与异常值相关；3.调参过程时间较长，可考虑进一步进行特征选择和特征降维，以加快建模和调参速度。后续的方向:1.进一步移除异常值；2.移除权重过大的特征，进一步选择特征，缓解过拟合问题；3.数据标准化后进行PCA降维；4.使用模型融合等集成方法提升精度。"
   ]
  }
 ],
 "metadata": {
  "kernelspec": {
   "display_name": "Python 3",
   "language": "python",
   "name": "python3"
  },
  "language_info": {
   "codemirror_mode": {
    "name": "ipython",
    "version": 3
   },
   "file_extension": ".py",
   "mimetype": "text/x-python",
   "name": "python",
   "nbconvert_exporter": "python",
   "pygments_lexer": "ipython3",
   "version": "3.7.4"
  }
 },
 "nbformat": 4,
 "nbformat_minor": 4
}
